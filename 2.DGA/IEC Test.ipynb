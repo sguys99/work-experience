{
 "cells": [
  {
   "cell_type": "markdown",
   "metadata": {},
   "source": [
    "## IEC 판정기준"
   ]
  },
  {
   "cell_type": "markdown",
   "metadata": {
    "ExecuteTime": {
     "end_time": "2020-04-29T02:23:18.983573Z",
     "start_time": "2020-04-29T02:23:18.977562Z"
    }
   },
   "source": [
    "<div style=\"text-align: right\"> 작성자 : 유광명</div>  "
   ]
  },
  {
   "cell_type": "markdown",
   "metadata": {},
   "source": [
    "<div style=\"text-align: right\"> 1차 수정일: 2020.05.12 </div> \n",
    "<div style=\"text-align: right\"> 최종 수정일: 2023.02.01 </div> "
   ]
  },
  {
   "cell_type": "code",
   "execution_count": 1,
   "metadata": {
    "ExecuteTime": {
     "end_time": "2020-05-08T05:45:53.478899Z",
     "start_time": "2020-05-08T05:45:52.268104Z"
    }
   },
   "outputs": [],
   "source": [
    "from tqdm.notebook import tqdm\n",
    "import time\n",
    "import numpy as np\n",
    "import pandas as pd\n",
    "import matplotlib as mpl\n",
    "import matplotlib.pyplot as plt\n",
    "from matplotlib import font_manager, rc\n",
    "import seaborn as sns\n",
    "import scipy as sp\n",
    "import datetime\n",
    "import missingno as msno\n",
    "import warnings; warnings.filterwarnings('ignore')\n",
    "plt.style.use('ggplot')\n",
    "%matplotlib inline\n",
    "\n",
    "# Options for pandas\n",
    "pd.options.display.max_columns = 60\n",
    "# display low 수를 늘리기 위해스는 원본데이터 row 길이 보다 커야 함"
   ]
  },
  {
   "cell_type": "code",
   "execution_count": 2,
   "metadata": {
    "ExecuteTime": {
     "end_time": "2020-05-08T05:45:53.486845Z",
     "start_time": "2020-05-08T05:45:53.480861Z"
    }
   },
   "outputs": [],
   "source": [
    "# 상단 코드가 에러시(폰트 이름 달라서 발생)\n",
    "mpl.rcParams['axes.unicode_minus'] = False\n",
    "_path = \"c:\\Windows\\Fonts\\KoPubWorld Dotum Bold.ttf\"\n",
    "_font_name = font_manager.FontProperties(fname=_path).get_name()\n",
    "rc('font', family=_font_name)\n",
    "mpl.rcParams['axes.unicode_minus']=False # 마이너스 폰트 깨짐방지"
   ]
  },
  {
   "cell_type": "code",
   "execution_count": 3,
   "metadata": {
    "ExecuteTime": {
     "end_time": "2020-05-08T05:45:53.498829Z",
     "start_time": "2020-05-08T05:45:53.488845Z"
    }
   },
   "outputs": [],
   "source": [
    "import gc\n",
    "gc.enable()"
   ]
  },
  {
   "cell_type": "markdown",
   "metadata": {},
   "source": [
    "## 1. 데이터 로딩 및 기본정보 확인"
   ]
  },
  {
   "cell_type": "markdown",
   "metadata": {},
   "source": [
    "### 1.1 데이터 로딩"
   ]
  },
  {
   "cell_type": "code",
   "execution_count": 4,
   "metadata": {
    "ExecuteTime": {
     "end_time": "2020-05-08T05:45:53.824973Z",
     "start_time": "2020-05-08T05:45:53.501805Z"
    }
   },
   "outputs": [],
   "source": [
    "df = pd.read_pickle('data/DGA_rev_data(DB_for_IEC).pickle')"
   ]
  },
  {
   "cell_type": "code",
   "execution_count": 5,
   "metadata": {
    "ExecuteTime": {
     "end_time": "2020-05-08T05:45:53.881825Z",
     "start_time": "2020-05-08T05:45:53.829962Z"
    },
    "scrolled": true
   },
   "outputs": [
    {
     "data": {
      "text/html": [
       "<div>\n",
       "<style scoped>\n",
       "    .dataframe tbody tr th:only-of-type {\n",
       "        vertical-align: middle;\n",
       "    }\n",
       "\n",
       "    .dataframe tbody tr th {\n",
       "        vertical-align: top;\n",
       "    }\n",
       "\n",
       "    .dataframe thead th {\n",
       "        text-align: right;\n",
       "    }\n",
       "</style>\n",
       "<table border=\"1\" class=\"dataframe\">\n",
       "  <thead>\n",
       "    <tr style=\"text-align: right;\">\n",
       "      <th></th>\n",
       "      <th>office1</th>\n",
       "      <th>office2</th>\n",
       "      <th>name</th>\n",
       "      <th>maker</th>\n",
       "      <th>volt</th>\n",
       "      <th>mfg_year</th>\n",
       "      <th>sample_date</th>\n",
       "      <th>operation</th>\n",
       "      <th>anal_type</th>\n",
       "      <th>H2</th>\n",
       "      <th>C2H2</th>\n",
       "      <th>C2H4</th>\n",
       "      <th>CH4</th>\n",
       "      <th>C2H6</th>\n",
       "      <th>C3H8</th>\n",
       "      <th>r1(KEPCO)</th>\n",
       "      <th>CO</th>\n",
       "      <th>CO2</th>\n",
       "      <th>r2(KEPCO)</th>\n",
       "      <th>etc</th>\n",
       "      <th>S/S</th>\n",
       "      <th>eq_type</th>\n",
       "      <th>eq_num</th>\n",
       "      <th>eq_phase</th>\n",
       "      <th>volt_by_name</th>\n",
       "      <th>sample_year</th>\n",
       "      <th>sample_month</th>\n",
       "      <th>sample_season</th>\n",
       "      <th>age(year)</th>\n",
       "      <th>age(month)</th>\n",
       "      <th>long_term</th>\n",
       "      <th>TCG1</th>\n",
       "      <th>TCG2</th>\n",
       "      <th>TG</th>\n",
       "      <th>%H2</th>\n",
       "      <th>%C2H2</th>\n",
       "      <th>%C2H4</th>\n",
       "      <th>%CH4</th>\n",
       "      <th>%C2H6</th>\n",
       "      <th>%CO</th>\n",
       "      <th>CH4/H2</th>\n",
       "      <th>C2H2/C2H4</th>\n",
       "      <th>C2H2/CH4</th>\n",
       "      <th>C2H6/C2H2</th>\n",
       "      <th>C2H4/C2H6</th>\n",
       "      <th>gas_ratio_p</th>\n",
       "      <th>dH2</th>\n",
       "      <th>dC2H2</th>\n",
       "      <th>dC2H4</th>\n",
       "      <th>dC2H6</th>\n",
       "      <th>dC3H8</th>\n",
       "      <th>dCO</th>\n",
       "      <th>dCO2</th>\n",
       "      <th>dTCG1</th>\n",
       "      <th>dTCG2</th>\n",
       "      <th>dTG</th>\n",
       "      <th>sample_cnt</th>\n",
       "      <th>r(keygas)</th>\n",
       "      <th>r(doernburg)</th>\n",
       "      <th>r(rogers)</th>\n",
       "    </tr>\n",
       "  </thead>\n",
       "  <tbody>\n",
       "    <tr>\n",
       "      <th>0</th>\n",
       "      <td>제주본부</td>\n",
       "      <td>제주전력지사</td>\n",
       "      <td>신서귀S/S  154kV  #1   M.Tr A</td>\n",
       "      <td>효성</td>\n",
       "      <td>154</td>\n",
       "      <td>1998</td>\n",
       "      <td>1998-06-20</td>\n",
       "      <td>신설</td>\n",
       "      <td>NaN</td>\n",
       "      <td>0.0</td>\n",
       "      <td>0.0</td>\n",
       "      <td>0.0</td>\n",
       "      <td>7.0</td>\n",
       "      <td>0.0</td>\n",
       "      <td>0.0</td>\n",
       "      <td>정상</td>\n",
       "      <td>23.0</td>\n",
       "      <td>84.0</td>\n",
       "      <td>정상</td>\n",
       "      <td>NaN</td>\n",
       "      <td>신서귀S/S</td>\n",
       "      <td>M.Tr</td>\n",
       "      <td>#1</td>\n",
       "      <td>A</td>\n",
       "      <td>154</td>\n",
       "      <td>1998</td>\n",
       "      <td>6</td>\n",
       "      <td>1</td>\n",
       "      <td>0</td>\n",
       "      <td>5</td>\n",
       "      <td>0</td>\n",
       "      <td>7.0</td>\n",
       "      <td>7.0</td>\n",
       "      <td>114.0</td>\n",
       "      <td>0.000</td>\n",
       "      <td>0.0</td>\n",
       "      <td>0.0</td>\n",
       "      <td>0.2333</td>\n",
       "      <td>0.0</td>\n",
       "      <td>0.7667</td>\n",
       "      <td>1.4</td>\n",
       "      <td>1.0</td>\n",
       "      <td>0.14286</td>\n",
       "      <td>1.0</td>\n",
       "      <td>1.0</td>\n",
       "      <td>1</td>\n",
       "      <td>0.000000</td>\n",
       "      <td>0.0</td>\n",
       "      <td>0.0</td>\n",
       "      <td>0.0</td>\n",
       "      <td>0.0</td>\n",
       "      <td>0.000000</td>\n",
       "      <td>0.000000</td>\n",
       "      <td>0.000000</td>\n",
       "      <td>0.000000</td>\n",
       "      <td>0.000000</td>\n",
       "      <td>1</td>\n",
       "      <td>normal</td>\n",
       "      <td>normal</td>\n",
       "      <td>N.A.</td>\n",
       "    </tr>\n",
       "    <tr>\n",
       "      <th>1</th>\n",
       "      <td>제주본부</td>\n",
       "      <td>제주전력지사</td>\n",
       "      <td>신서귀S/S  154kV  #1   M.Tr A</td>\n",
       "      <td>효성</td>\n",
       "      <td>154</td>\n",
       "      <td>1998</td>\n",
       "      <td>1998-11-26</td>\n",
       "      <td>신설</td>\n",
       "      <td>NaN</td>\n",
       "      <td>10.0</td>\n",
       "      <td>0.0</td>\n",
       "      <td>0.0</td>\n",
       "      <td>1.0</td>\n",
       "      <td>0.0</td>\n",
       "      <td>0.0</td>\n",
       "      <td>정상</td>\n",
       "      <td>87.0</td>\n",
       "      <td>1738.0</td>\n",
       "      <td>정상</td>\n",
       "      <td>NaN</td>\n",
       "      <td>신서귀S/S</td>\n",
       "      <td>M.Tr</td>\n",
       "      <td>#1</td>\n",
       "      <td>A</td>\n",
       "      <td>154</td>\n",
       "      <td>1998</td>\n",
       "      <td>11</td>\n",
       "      <td>2</td>\n",
       "      <td>0</td>\n",
       "      <td>10</td>\n",
       "      <td>0</td>\n",
       "      <td>11.0</td>\n",
       "      <td>11.0</td>\n",
       "      <td>1836.0</td>\n",
       "      <td>0.102</td>\n",
       "      <td>0.0</td>\n",
       "      <td>0.0</td>\n",
       "      <td>0.0102</td>\n",
       "      <td>0.0</td>\n",
       "      <td>0.8878</td>\n",
       "      <td>0.1</td>\n",
       "      <td>1.0</td>\n",
       "      <td>1.00000</td>\n",
       "      <td>1.0</td>\n",
       "      <td>1.0</td>\n",
       "      <td>1</td>\n",
       "      <td>1.666667</td>\n",
       "      <td>0.0</td>\n",
       "      <td>0.0</td>\n",
       "      <td>0.0</td>\n",
       "      <td>0.0</td>\n",
       "      <td>10.666667</td>\n",
       "      <td>275.666667</td>\n",
       "      <td>0.666667</td>\n",
       "      <td>0.666667</td>\n",
       "      <td>287.000000</td>\n",
       "      <td>2</td>\n",
       "      <td>normal</td>\n",
       "      <td>normal</td>\n",
       "      <td>N.A.</td>\n",
       "    </tr>\n",
       "    <tr>\n",
       "      <th>2</th>\n",
       "      <td>제주본부</td>\n",
       "      <td>제주전력지사</td>\n",
       "      <td>신서귀S/S  154kV  #1   M.Tr A</td>\n",
       "      <td>효성</td>\n",
       "      <td>154</td>\n",
       "      <td>1998</td>\n",
       "      <td>1999-12-07</td>\n",
       "      <td>신설</td>\n",
       "      <td>NaN</td>\n",
       "      <td>0.0</td>\n",
       "      <td>0.0</td>\n",
       "      <td>0.0</td>\n",
       "      <td>3.0</td>\n",
       "      <td>0.0</td>\n",
       "      <td>0.0</td>\n",
       "      <td>정상</td>\n",
       "      <td>108.0</td>\n",
       "      <td>1110.0</td>\n",
       "      <td>정상</td>\n",
       "      <td>NaN</td>\n",
       "      <td>신서귀S/S</td>\n",
       "      <td>M.Tr</td>\n",
       "      <td>#1</td>\n",
       "      <td>A</td>\n",
       "      <td>154</td>\n",
       "      <td>1999</td>\n",
       "      <td>12</td>\n",
       "      <td>3</td>\n",
       "      <td>1</td>\n",
       "      <td>23</td>\n",
       "      <td>0</td>\n",
       "      <td>3.0</td>\n",
       "      <td>3.0</td>\n",
       "      <td>1221.0</td>\n",
       "      <td>0.000</td>\n",
       "      <td>0.0</td>\n",
       "      <td>0.0</td>\n",
       "      <td>0.0270</td>\n",
       "      <td>0.0</td>\n",
       "      <td>0.9730</td>\n",
       "      <td>0.6</td>\n",
       "      <td>1.0</td>\n",
       "      <td>0.33333</td>\n",
       "      <td>1.0</td>\n",
       "      <td>1.0</td>\n",
       "      <td>1</td>\n",
       "      <td>-0.714286</td>\n",
       "      <td>0.0</td>\n",
       "      <td>0.0</td>\n",
       "      <td>0.0</td>\n",
       "      <td>0.0</td>\n",
       "      <td>1.500000</td>\n",
       "      <td>-44.857143</td>\n",
       "      <td>-0.571429</td>\n",
       "      <td>-0.571429</td>\n",
       "      <td>-43.928571</td>\n",
       "      <td>3</td>\n",
       "      <td>normal</td>\n",
       "      <td>normal</td>\n",
       "      <td>N.A.</td>\n",
       "    </tr>\n",
       "    <tr>\n",
       "      <th>3</th>\n",
       "      <td>제주본부</td>\n",
       "      <td>제주전력지사</td>\n",
       "      <td>신서귀S/S  154kV  #1   M.Tr A</td>\n",
       "      <td>효성</td>\n",
       "      <td>154</td>\n",
       "      <td>1998</td>\n",
       "      <td>2000-11-29</td>\n",
       "      <td>신설</td>\n",
       "      <td>NaN</td>\n",
       "      <td>0.0</td>\n",
       "      <td>0.0</td>\n",
       "      <td>0.0</td>\n",
       "      <td>2.0</td>\n",
       "      <td>0.0</td>\n",
       "      <td>0.0</td>\n",
       "      <td>정상</td>\n",
       "      <td>203.0</td>\n",
       "      <td>679.0</td>\n",
       "      <td>정상</td>\n",
       "      <td>NaN</td>\n",
       "      <td>신서귀S/S</td>\n",
       "      <td>M.Tr</td>\n",
       "      <td>#1</td>\n",
       "      <td>A</td>\n",
       "      <td>154</td>\n",
       "      <td>2000</td>\n",
       "      <td>11</td>\n",
       "      <td>2</td>\n",
       "      <td>2</td>\n",
       "      <td>34</td>\n",
       "      <td>0</td>\n",
       "      <td>2.0</td>\n",
       "      <td>2.0</td>\n",
       "      <td>884.0</td>\n",
       "      <td>0.000</td>\n",
       "      <td>0.0</td>\n",
       "      <td>0.0</td>\n",
       "      <td>0.0098</td>\n",
       "      <td>0.0</td>\n",
       "      <td>0.9902</td>\n",
       "      <td>0.4</td>\n",
       "      <td>1.0</td>\n",
       "      <td>0.50000</td>\n",
       "      <td>1.0</td>\n",
       "      <td>1.0</td>\n",
       "      <td>1</td>\n",
       "      <td>0.000000</td>\n",
       "      <td>0.0</td>\n",
       "      <td>0.0</td>\n",
       "      <td>0.0</td>\n",
       "      <td>0.0</td>\n",
       "      <td>7.916667</td>\n",
       "      <td>-35.916667</td>\n",
       "      <td>-0.083333</td>\n",
       "      <td>-0.083333</td>\n",
       "      <td>-28.083333</td>\n",
       "      <td>4</td>\n",
       "      <td>normal</td>\n",
       "      <td>normal</td>\n",
       "      <td>N.A.</td>\n",
       "    </tr>\n",
       "    <tr>\n",
       "      <th>4</th>\n",
       "      <td>제주본부</td>\n",
       "      <td>제주전력지사</td>\n",
       "      <td>신서귀S/S  154kV  #1   M.Tr A</td>\n",
       "      <td>효성</td>\n",
       "      <td>154</td>\n",
       "      <td>1998</td>\n",
       "      <td>2001-12-10</td>\n",
       "      <td>운전중</td>\n",
       "      <td>NaN</td>\n",
       "      <td>0.0</td>\n",
       "      <td>0.0</td>\n",
       "      <td>0.0</td>\n",
       "      <td>0.0</td>\n",
       "      <td>0.0</td>\n",
       "      <td>0.0</td>\n",
       "      <td>정상</td>\n",
       "      <td>222.0</td>\n",
       "      <td>537.0</td>\n",
       "      <td>정상</td>\n",
       "      <td>NaN</td>\n",
       "      <td>신서귀S/S</td>\n",
       "      <td>M.Tr</td>\n",
       "      <td>#1</td>\n",
       "      <td>A</td>\n",
       "      <td>154</td>\n",
       "      <td>2001</td>\n",
       "      <td>12</td>\n",
       "      <td>3</td>\n",
       "      <td>3</td>\n",
       "      <td>47</td>\n",
       "      <td>0</td>\n",
       "      <td>0.0</td>\n",
       "      <td>0.0</td>\n",
       "      <td>759.0</td>\n",
       "      <td>0.000</td>\n",
       "      <td>0.0</td>\n",
       "      <td>0.0</td>\n",
       "      <td>0.0000</td>\n",
       "      <td>0.0</td>\n",
       "      <td>1.0000</td>\n",
       "      <td>0.2</td>\n",
       "      <td>1.0</td>\n",
       "      <td>1.00000</td>\n",
       "      <td>1.0</td>\n",
       "      <td>1.0</td>\n",
       "      <td>0</td>\n",
       "      <td>0.000000</td>\n",
       "      <td>0.0</td>\n",
       "      <td>0.0</td>\n",
       "      <td>0.0</td>\n",
       "      <td>0.0</td>\n",
       "      <td>1.357143</td>\n",
       "      <td>-10.142857</td>\n",
       "      <td>-0.142857</td>\n",
       "      <td>-0.142857</td>\n",
       "      <td>-8.928571</td>\n",
       "      <td>5</td>\n",
       "      <td>normal</td>\n",
       "      <td>normal</td>\n",
       "      <td>N.A.</td>\n",
       "    </tr>\n",
       "  </tbody>\n",
       "</table>\n",
       "</div>"
      ],
      "text/plain": [
       "  office1 office2                        name maker volt  mfg_year  \\\n",
       "0    제주본부  제주전력지사  신서귀S/S  154kV  #1   M.Tr A    효성  154      1998   \n",
       "1    제주본부  제주전력지사  신서귀S/S  154kV  #1   M.Tr A    효성  154      1998   \n",
       "2    제주본부  제주전력지사  신서귀S/S  154kV  #1   M.Tr A    효성  154      1998   \n",
       "3    제주본부  제주전력지사  신서귀S/S  154kV  #1   M.Tr A    효성  154      1998   \n",
       "4    제주본부  제주전력지사  신서귀S/S  154kV  #1   M.Tr A    효성  154      1998   \n",
       "\n",
       "  sample_date operation anal_type    H2  C2H2  C2H4  CH4  C2H6  C3H8  \\\n",
       "0  1998-06-20        신설       NaN   0.0   0.0   0.0  7.0   0.0   0.0   \n",
       "1  1998-11-26        신설       NaN  10.0   0.0   0.0  1.0   0.0   0.0   \n",
       "2  1999-12-07        신설       NaN   0.0   0.0   0.0  3.0   0.0   0.0   \n",
       "3  2000-11-29        신설       NaN   0.0   0.0   0.0  2.0   0.0   0.0   \n",
       "4  2001-12-10       운전중       NaN   0.0   0.0   0.0  0.0   0.0   0.0   \n",
       "\n",
       "  r1(KEPCO)     CO     CO2 r2(KEPCO)  etc     S/S eq_type eq_num eq_phase  \\\n",
       "0        정상   23.0    84.0        정상  NaN  신서귀S/S    M.Tr     #1        A   \n",
       "1        정상   87.0  1738.0        정상  NaN  신서귀S/S    M.Tr     #1        A   \n",
       "2        정상  108.0  1110.0        정상  NaN  신서귀S/S    M.Tr     #1        A   \n",
       "3        정상  203.0   679.0        정상  NaN  신서귀S/S    M.Tr     #1        A   \n",
       "4        정상  222.0   537.0        정상  NaN  신서귀S/S    M.Tr     #1        A   \n",
       "\n",
       "  volt_by_name  sample_year  sample_month  sample_season  age(year)  \\\n",
       "0          154         1998             6              1          0   \n",
       "1          154         1998            11              2          0   \n",
       "2          154         1999            12              3          1   \n",
       "3          154         2000            11              2          2   \n",
       "4          154         2001            12              3          3   \n",
       "\n",
       "   age(month)  long_term  TCG1  TCG2      TG    %H2  %C2H2  %C2H4    %CH4  \\\n",
       "0           5          0   7.0   7.0   114.0  0.000    0.0    0.0  0.2333   \n",
       "1          10          0  11.0  11.0  1836.0  0.102    0.0    0.0  0.0102   \n",
       "2          23          0   3.0   3.0  1221.0  0.000    0.0    0.0  0.0270   \n",
       "3          34          0   2.0   2.0   884.0  0.000    0.0    0.0  0.0098   \n",
       "4          47          0   0.0   0.0   759.0  0.000    0.0    0.0  0.0000   \n",
       "\n",
       "   %C2H6     %CO  CH4/H2  C2H2/C2H4  C2H2/CH4  C2H6/C2H2  C2H4/C2H6  \\\n",
       "0    0.0  0.7667     1.4        1.0   0.14286        1.0        1.0   \n",
       "1    0.0  0.8878     0.1        1.0   1.00000        1.0        1.0   \n",
       "2    0.0  0.9730     0.6        1.0   0.33333        1.0        1.0   \n",
       "3    0.0  0.9902     0.4        1.0   0.50000        1.0        1.0   \n",
       "4    0.0  1.0000     0.2        1.0   1.00000        1.0        1.0   \n",
       "\n",
       "   gas_ratio_p       dH2  dC2H2  dC2H4  dC2H6  dC3H8        dCO        dCO2  \\\n",
       "0            1  0.000000    0.0    0.0    0.0    0.0   0.000000    0.000000   \n",
       "1            1  1.666667    0.0    0.0    0.0    0.0  10.666667  275.666667   \n",
       "2            1 -0.714286    0.0    0.0    0.0    0.0   1.500000  -44.857143   \n",
       "3            1  0.000000    0.0    0.0    0.0    0.0   7.916667  -35.916667   \n",
       "4            0  0.000000    0.0    0.0    0.0    0.0   1.357143  -10.142857   \n",
       "\n",
       "      dTCG1     dTCG2         dTG  sample_cnt r(keygas) r(doernburg) r(rogers)  \n",
       "0  0.000000  0.000000    0.000000           1    normal       normal      N.A.  \n",
       "1  0.666667  0.666667  287.000000           2    normal       normal      N.A.  \n",
       "2 -0.571429 -0.571429  -43.928571           3    normal       normal      N.A.  \n",
       "3 -0.083333 -0.083333  -28.083333           4    normal       normal      N.A.  \n",
       "4 -0.142857 -0.142857   -8.928571           5    normal       normal      N.A.  "
      ]
     },
     "execution_count": 5,
     "metadata": {},
     "output_type": "execute_result"
    }
   ],
   "source": [
    "df.head()"
   ]
  },
  {
   "cell_type": "code",
   "execution_count": 6,
   "metadata": {
    "ExecuteTime": {
     "end_time": "2020-05-08T05:45:53.890779Z",
     "start_time": "2020-05-08T05:45:53.885811Z"
    }
   },
   "outputs": [
    {
     "data": {
      "text/plain": [
       "Index(['office1', 'office2', 'name', 'maker', 'volt', 'mfg_year',\n",
       "       'sample_date', 'operation', 'anal_type', 'H2', 'C2H2', 'C2H4', 'CH4',\n",
       "       'C2H6', 'C3H8', 'r1(KEPCO)', 'CO', 'CO2', 'r2(KEPCO)', 'etc', 'S/S',\n",
       "       'eq_type', 'eq_num', 'eq_phase', 'volt_by_name', 'sample_year',\n",
       "       'sample_month', 'sample_season', 'age(year)', 'age(month)', 'long_term',\n",
       "       'TCG1', 'TCG2', 'TG', '%H2', '%C2H2', '%C2H4', '%CH4', '%C2H6', '%CO',\n",
       "       'CH4/H2', 'C2H2/C2H4', 'C2H2/CH4', 'C2H6/C2H2', 'C2H4/C2H6',\n",
       "       'gas_ratio_p', 'dH2', 'dC2H2', 'dC2H4', 'dC2H6', 'dC3H8', 'dCO', 'dCO2',\n",
       "       'dTCG1', 'dTCG2', 'dTG', 'sample_cnt', 'r(keygas)', 'r(doernburg)',\n",
       "       'r(rogers)'],\n",
       "      dtype='object')"
      ]
     },
     "execution_count": 6,
     "metadata": {},
     "output_type": "execute_result"
    }
   ],
   "source": [
    "df.columns"
   ]
  },
  {
   "cell_type": "code",
   "execution_count": 7,
   "metadata": {
    "ExecuteTime": {
     "end_time": "2020-05-08T05:45:53.923679Z",
     "start_time": "2020-05-08T05:45:53.892786Z"
    }
   },
   "outputs": [],
   "source": [
    "data = df[['office1', 'office2',\n",
    "           'H2', 'C2H2', 'C2H4', 'CH4','C2H6', 'C3H8', 'CO', 'CO2',\n",
    "           'TCG1', 'TCG2', 'TG',\n",
    "           'C2H2/C2H4', 'CH4/H2', 'C2H4/C2H6','gas_ratio_p',\n",
    "           'S/S','eq_type', 'eq_num', 'eq_phase', 'volt_by_name', \n",
    "           'sample_year','sample_month',\n",
    "           'age(year)', 'age(month)']]"
   ]
  },
  {
   "cell_type": "code",
   "execution_count": null,
   "metadata": {
    "ExecuteTime": {
     "end_time": "2020-04-29T03:36:33.716714Z",
     "start_time": "2020-04-29T03:36:33.712725Z"
    }
   },
   "outputs": [],
   "source": []
  },
  {
   "cell_type": "code",
   "execution_count": 8,
   "metadata": {
    "ExecuteTime": {
     "end_time": "2020-05-08T05:45:53.936673Z",
     "start_time": "2020-05-08T05:45:53.926669Z"
    },
    "scrolled": true
   },
   "outputs": [
    {
     "data": {
      "text/plain": [
       "(135941, 26)"
      ]
     },
     "execution_count": 8,
     "metadata": {},
     "output_type": "execute_result"
    }
   ],
   "source": [
    "data.shape"
   ]
  },
  {
   "cell_type": "code",
   "execution_count": null,
   "metadata": {},
   "outputs": [],
   "source": []
  },
  {
   "cell_type": "markdown",
   "metadata": {},
   "source": [
    "## 2. IEC 기준 "
   ]
  },
  {
   "cell_type": "markdown",
   "metadata": {},
   "source": [
    "### 2.1 고장의 종류  \n",
    "(IEC 60599 3.1.7~9, 5.2 )"
   ]
  },
  {
   "cell_type": "markdown",
   "metadata": {},
   "source": [
    "- **PD :** cold plasma(corona), 절연지의 X-wax, sparking, 작은구멍, 탄화흔적  \n",
    "- **D1(Discharge of Low Energy) :** 큰 절연지 탄화흔적(구멍), 절연유 탄소입자  \n",
    "- **D2(Discharge of High Energy)** : 절연지의 광범위한 손상 및 탄화흔적, 금속 용융, 광범위한 절연지 탄화, 가끔 대전류가 흘러서 설비가 비상정지(trip) 되는 경우도 있음  \n",
    "- **T1(thermal fault1) :** < 300'C, 갈색 절연지  \n",
    "- **T2 :** 300'C < t < 700'C, 절연지 또는 절연유 탄화흔적  \n",
    "- **T3 :** 절연유의 확실한 탄화흔적(t > 700'C), 절연유의 확연한 탄화흔적(t > 800'C), 금속용융(t > 1000'C)"
   ]
  },
  {
   "cell_type": "markdown",
   "metadata": {},
   "source": [
    "<img src = 'pic/2.12.1.jpg' width = 300>"
   ]
  },
  {
   "cell_type": "markdown",
   "metadata": {},
   "source": [
    "### 2.2 Basic Gas Ratios : C2H2/C2H4, CH4/H2, C2H4/C2H6  \n",
    "(IEC 60599 5.4)"
   ]
  },
  {
   "cell_type": "markdown",
   "metadata": {
    "ExecuteTime": {
     "end_time": "2020-04-29T04:48:11.178074Z",
     "start_time": "2020-04-29T04:48:11.172087Z"
    }
   },
   "source": [
    "<img src = 'pic/2.12.2.jpg' width = 400>"
   ]
  },
  {
   "cell_type": "markdown",
   "metadata": {},
   "source": [
    "- 어떤 지역에서는 CH4/H2 대신 C2H2/C2H6이 사용되기도 하며, 약간의 다른 ratio 값이 사용되기도 한다.  \n",
    "- 위 기준은 적어도 한개의 가스 측정 값이나 Rate가 정상범위를 초과했을 때 적용된다.  (확인요, clause 9)  \n",
    "- PD는 instrument tr에 대해 CH4/H2 < 0.2가, 부싱에 대해 CH4/H2<0.07가 적용된다.  \n",
    "- NS : Non-significant whatever the values  \n",
    "- 위 결과는 power transformer, instrument transformer 등을 포함하는 일반적인 결과임(특정 설비에 대해서는 값이 변경될 수도 있음)"
   ]
  },
  {
   "cell_type": "markdown",
   "metadata": {},
   "source": [
    "- 3가지 faults로 구분된 다음의 간소화된 모델이 사용되기도 한다."
   ]
  },
  {
   "cell_type": "markdown",
   "metadata": {},
   "source": [
    "<img src = 'pic/2.12.3.jpg' width = 300>"
   ]
  },
  {
   "cell_type": "markdown",
   "metadata": {},
   "source": [
    "### 2.3 Additional Gas Ratios : CO2/CO, O2/N2, C2H2/H2  \n",
    "(IEC 60599 5.4 ~ 7)  \n",
    "\n",
    "- CO2/CO : 이 두 값은 온도 증가에 따라 급격하게 발생한다. CO2/CO < 3는 탄화를 동반하는 절연지 부분의 fault로 간주된다.(단, 별도의 correction 과정이 필요하므로 본 데이터에서 적용가능한지 검토 필요)  \n",
    "- O2/N2 : 이 두 가스는 절연유에서 검출됨. 정상상태에서 O2/N2는 0.5 부근임. 절연유 산화와 절연지 노화로 O2 소모가 늘어나게 됨.(즉 수명지표로 활용가능) 그러나 O2/N2 < 0.3 이면 fault로 간주할 수 있음  \n",
    "- C2H2/H2 : TR의 OLTC의 동작에 의해 D1에 해당하는 가스를 방출할 수가 있음. 따라서 fault가 아닌데 fault로 간주될 수도 있음. 특히 C2H2/H2 > 2~3 은 OLTC 고장을 나타내는 것임. --->(활용불가)  "
   ]
  },
  {
   "cell_type": "markdown",
   "metadata": {},
   "source": [
    "### 2.4 Condition for Calculating Ratios  \n",
    "(IEC 60599 6)  \n",
    "- 가스 측정 값이 0이거나 S보다 작은 값이면 ratio 계산시 S를 사용한다.  \n",
    "- 이 방법은 적어도 한개의 가스가 typical value를 초과했을때만 적용한다.\n",
    "- typical range는 운영자가 정한다.(ex 90%, 95%)\n",
    "- If gas ratios are different from those for the previous analysis, a new fault may superimpose tself on an old one or normal ageing. In order to get only the gas ratios corresponding to the new fault, subtract the previous DGA values from the last ones and recalculate ratios. This is particularly true in the case of CO and CO2 (see 5.4). Be sure to compare DGA values of samples taken at the same place and preferably in moving oil. Interpretation should also take into account treatments previously made on the equipment, such as repair, oil degassing or filtering, which may affect the level of gases in the oil."
   ]
  },
  {
   "cell_type": "markdown",
   "metadata": {},
   "source": [
    "<img src = 'pic/2.12.4.jpg' width = 600>"
   ]
  },
  {
   "cell_type": "markdown",
   "metadata": {},
   "source": [
    "### 2.5 Uncertainty on Gas Ratios  \n",
    "(IEC 60599 6.2)  \n",
    "- 측정 값의 정확도 문제로 인해 ratio도 불확실 성이 있을수도 있다. 측정값이 10xS 정도는 되어야 가스 측정 정밀도가 5%가 되고, 그렇게 되면 ratio 정밀도가 10%가 된다. 10xS 이하의 양에서는 정밀도가 급격히 떨어진다.**(코드에 반영)**  \n",
    "- 따라서 측정크기가 10xS 아래 일때는 정밀도와 variation을 유념해야 한다."
   ]
  },
  {
   "cell_type": "markdown",
   "metadata": {},
   "source": [
    "### 2.6 Probability of failure in service  \n",
    "(IEC 60599 8.1)  \n",
    "- typical values, nominal values 아래의 값은 고장 확률이 낮다.  \n",
    "- 고장확률은 측정 값이 그 이상일 때 높아진다. \n",
    "- 실제 고장이 높더라도 그 값이 높으면 확률은 높다.\n",
    "- 고장의 종류는 단기에 발생하는 것과 장시간에 걸쳐 서서히 나빠지는 두가지가 있다.\n",
    "- 단기성은 on-line detector로 검출하고, 장기성은 lab기반 dga로 검출한다."
   ]
  },
  {
   "cell_type": "markdown",
   "metadata": {},
   "source": [
    "### 2.7 Typical concentration values  \n",
    "(IEC 60599 8.2)  \n",
    "- 정상 값은 고장이 발생하지 않는 설비에서 측정한 값들 중에서 빈번하게 나타나는 범위를 뜻한다.(예를 들어 90% 범위, 일반적으로 90%를 사용한다., 해볼것)\n",
    "- 이 값은 진단의 iniitial value 정도로 사용해야지 진단 기준으로 사용해서는 안된다.  \n",
    "- 일반적으로 정상범위는 커미셔닝 후 운전시간, 설비 타입, 등과 같은 것에 영향을 받는다. 특히 power tr의 경우 부하, 운영모드 등에도 영향을 받는다.  \n",
    "- 정상 값 계산 중 가장 간단한 방법은 설비별로 DGA 값을 모으는 것이다.  \n",
    "the cumulative number of DGA analyses where the gas concentration is below a given value is calculated, then plotted as a function of gas concentration. Using the plotted curve, the gas concentration corresponding to a given percentage of the total cumulative number of analyses (for instance 90 %)\n",
    "is the 90 % typical concentration value for that gas and type of equipment.  \n",
    "- 선정한 정상 범위가 지나치게 낮으면 이상 진단 알람이 다수 발생하게 되어 신뢰성이 떨어진다. 지나치게 높으면 알람에 앞서서 고장이 발생할 수도 있다.  \n",
    "- 일반적으로 instrument tr이나 부싱의 정상범위는 낮게, Power TR의 정상범위는 높게 설정한다.(p18)"
   ]
  },
  {
   "cell_type": "markdown",
   "metadata": {},
   "source": [
    "### 2.8 Rates of gas increase  \n",
    "(IEC 60599 8.3)  \n",
    "- 측정 가스 증가 추세가 없으면 고장이 사라졌다는 의미이다.  \n",
    "- 이 때 고려되어야 할 부분은 설비종류, age, 고장유형, 부해패턴 등이다. 이를 고려하여 기준 증가율을 정해야 한다.  \n",
    "- 개월당 10% 이상 증가한 경우 고장의 전조 증상으로 본다.(단 측정 값의 정밀도가 보장되어야 한다. 10% 이상 정밀도, S 값 확인 필요)  \n",
    "- 주당 50% 이상 증가하는 것은 심각한 고장이나 높은 에너지로 이한 고장이 발생했음을 나타낸다.(D2, T3)  \n",
    "- CO, CO2의 경우 증가율의 oil-paper 비율에 의존적이어서 타입에 따라 다르게 나타날 수도 있다.  \n",
    "- onlie gas detector의 경우 ... **특허(online + offline)**\n",
    "- On-line gas detectors, including those already available for hydrogen, may be particularly wellsuited for detecting non-typical rates of gas increase occurring within minutes, hours or weeks, which is generally not possible with routine oil samplings done at monthly or yearly intervals. However, when such increases are detected by a gas detector, complete DGA analyses shall be made at the laboratory to confirm the detector readings, evaluate the rates of increase of the various gases and identify the fault."
   ]
  },
  {
   "cell_type": "markdown",
   "metadata": {},
   "source": [
    "### 2.9 Recommended method of DGA interpretation  \n",
    "(IEC 60599 9)"
   ]
  },
  {
   "cell_type": "markdown",
   "metadata": {
    "ExecuteTime": {
     "end_time": "2020-04-29T06:10:02.542470Z",
     "start_time": "2020-04-29T06:10:02.536489Z"
    }
   },
   "source": [
    "<img src = 'pic/2.12.5.jpg' width = 700>"
   ]
  },
  {
   "cell_type": "markdown",
   "metadata": {},
   "source": [
    "- a) 측정 값이 analytical detection limit(IEC 6.1 참고) 범주에 있는지 확인한다. 그리고 precision을 체크한다. 모든 측정 값과 rate가 정상범위 안에 있을 때는 '정상'으로 판별한다. 최소 한개 가스 이상이 측정 값이나 증가율 범위를 초과할 경우 Table 2를 참고하여 진단하고 4.3을 통해 최종 판별한다.(확인요) 필요시 CO, CO2에 대해서도 rate를 구한다.(6.1참고) 측정 값이 typical value 이상인데 10xS 아래이면 6.2를 참고한다.  \n",
    "- b) 측정 값과 증가율로 고장 종류를 결정한다. 고장이 심각한지 아닌지 확인한다.(5.8) 절연지가 고장에 관련있는지 확인한다.(4.2, 5.4)  \n",
    "- c) 적절한 조치를 취한다.  \n",
    "    - 방법1: 샘플링 주기를 좁힌다.  \n",
    "    - 방법2: 즉각조치를 취한다.  \n",
    "    - 방법3: 또다른 테스트를 실시한다.(acoustic, electrical, infrared) 또는 부하를 줄인다.  \n",
    "    - 방법4: 변압기를 계통에서 분리하고 수리하고, 전문가의 진단을 받는다."
   ]
  },
  {
   "cell_type": "markdown",
   "metadata": {},
   "source": [
    "### 2.10 Power Transformer Application Notes\n",
    "(IEC 60599 Annex A.2)"
   ]
  },
  {
   "cell_type": "markdown",
   "metadata": {},
   "source": [
    "#### 2.10.1 Sub type"
   ]
  },
  {
   "cell_type": "markdown",
   "metadata": {},
   "source": [
    " air-breathing, sealed/nitrogen-blanketed, 송전용/발전 stepup용, OLTC 여부, core-type/shell-type, reactor"
   ]
  },
  {
   "cell_type": "markdown",
   "metadata": {},
   "source": [
    "#### 2.10.2 Calculation method"
   ]
  },
  {
   "cell_type": "markdown",
   "metadata": {},
   "source": [
    "<img src = 'pic/2.12.6.jpg' width = 500>"
   ]
  },
  {
   "cell_type": "markdown",
   "metadata": {},
   "source": [
    "- 위 기준이외에 OLTC가 있는 Power TR에서 C2H2/H2가 2보다 크면 OLTC main tank에 오염이 있을 가능성이 크다. 이때는 위 결과를 적용하면 안된다.   "
   ]
  },
  {
   "cell_type": "markdown",
   "metadata": {},
   "source": [
    "- 가스의 정상 일반적인 정상 측정범위는 다음과 같다. 이는 전세계 25개 계통에서 수집한 결과를 정리한 것이다."
   ]
  },
  {
   "cell_type": "markdown",
   "metadata": {},
   "source": [
    "<img src = 'pic/2.12.7.jpg' width = 600>"
   ]
  },
  {
   "cell_type": "markdown",
   "metadata": {},
   "source": [
    "- 측정 값 증가율의 정상 범위는 다음과 같다."
   ]
  },
  {
   "cell_type": "markdown",
   "metadata": {},
   "source": [
    "<img src = 'pic/2.12.8.jpg' width = 600>"
   ]
  },
  {
   "cell_type": "markdown",
   "metadata": {},
   "source": [
    "- 증가율은 5000리터 이상의 대형 변압기를 대상으로 한것이다. 따라서 소형 변압기에서는 낮은 값이 형성된다. 변압기 운영 초기나 중반 이후에는 중기에 비해 높은 값이 형성된다.  \n",
    "- 이 값이 측정 값을 예측하는데 사용되어서는 안된다. "
   ]
  },
  {
   "cell_type": "markdown",
   "metadata": {},
   "source": [
    "#### 2.10.3 Specific information to be added to the DGA report (Clause 10)"
   ]
  },
  {
   "cell_type": "markdown",
   "metadata": {},
   "source": [
    "DGA 측정 시 다음 정보가 추가되어야 한다.  \n",
    "– power rating;(중요)  \n",
    "– transformer sub-type: air-breathing or sealed;  \n",
    "– oil temperature;  \n",
    "– type of cooling system: ONAN (oil natural air natural), OFAF (oil forced air forced), etc.;(중요)  \n",
    "– date of manufacturing;(중요)  \n",
    "– type of OLTC and whether it is communicating with the main tank or not;  \n",
    "– number of OLTC operations, if known;  \n",
    "– load since last DGA.**(중요)**"
   ]
  },
  {
   "cell_type": "markdown",
   "metadata": {},
   "source": [
    "### 2.11 Grephical Representation  "
   ]
  },
  {
   "cell_type": "markdown",
   "metadata": {
    "ExecuteTime": {
     "end_time": "2020-04-29T06:53:01.483423Z",
     "start_time": "2020-04-29T06:53:01.479430Z"
    }
   },
   "source": [
    "#### 2.11.1"
   ]
  },
  {
   "cell_type": "markdown",
   "metadata": {},
   "source": [
    "<img src = 'pic/2.12.9.jpg' width = 500>"
   ]
  },
  {
   "cell_type": "markdown",
   "metadata": {},
   "source": [
    "#### 2.11.2"
   ]
  },
  {
   "cell_type": "markdown",
   "metadata": {},
   "source": [
    "<img src = 'pic/2.12.10.jpg' width = 500>"
   ]
  },
  {
   "cell_type": "markdown",
   "metadata": {},
   "source": [
    "#### 2.11.3"
   ]
  },
  {
   "cell_type": "markdown",
   "metadata": {},
   "source": [
    "<img src = 'pic/2.12.11.jpg' width = 400>"
   ]
  },
  {
   "cell_type": "markdown",
   "metadata": {},
   "source": [
    "<img src = 'pic/2.12.12.jpg' width = 400>"
   ]
  },
  {
   "cell_type": "code",
   "execution_count": 9,
   "metadata": {
    "ExecuteTime": {
     "end_time": "2020-05-08T05:45:53.947614Z",
     "start_time": "2020-05-08T05:45:53.938637Z"
    }
   },
   "outputs": [],
   "source": [
    "# 사용가스 : C2H2, C2H4, CH4, H2, C2H6  \n",
    "# 일단 CO, CO2 제외"
   ]
  },
  {
   "cell_type": "code",
   "execution_count": null,
   "metadata": {},
   "outputs": [],
   "source": []
  },
  {
   "cell_type": "markdown",
   "metadata": {},
   "source": [
    "## 3. IEC 판정코드"
   ]
  },
  {
   "cell_type": "markdown",
   "metadata": {},
   "source": [
    "### 3.1 IEC 60599기준"
   ]
  },
  {
   "cell_type": "code",
   "execution_count": 10,
   "metadata": {
    "ExecuteTime": {
     "end_time": "2020-05-08T05:45:53.984521Z",
     "start_time": "2020-05-08T05:45:53.949612Z"
    }
   },
   "outputs": [
    {
     "data": {
      "text/html": [
       "<div>\n",
       "<style scoped>\n",
       "    .dataframe tbody tr th:only-of-type {\n",
       "        vertical-align: middle;\n",
       "    }\n",
       "\n",
       "    .dataframe tbody tr th {\n",
       "        vertical-align: top;\n",
       "    }\n",
       "\n",
       "    .dataframe thead th {\n",
       "        text-align: right;\n",
       "    }\n",
       "</style>\n",
       "<table border=\"1\" class=\"dataframe\">\n",
       "  <thead>\n",
       "    <tr style=\"text-align: right;\">\n",
       "      <th></th>\n",
       "      <th>office1</th>\n",
       "      <th>office2</th>\n",
       "      <th>H2</th>\n",
       "      <th>C2H2</th>\n",
       "      <th>C2H4</th>\n",
       "      <th>CH4</th>\n",
       "      <th>C2H6</th>\n",
       "      <th>C3H8</th>\n",
       "      <th>CO</th>\n",
       "      <th>CO2</th>\n",
       "      <th>TCG1</th>\n",
       "      <th>TCG2</th>\n",
       "      <th>TG</th>\n",
       "      <th>C2H2/C2H4</th>\n",
       "      <th>CH4/H2</th>\n",
       "      <th>C2H4/C2H6</th>\n",
       "      <th>gas_ratio_p</th>\n",
       "      <th>S/S</th>\n",
       "      <th>eq_type</th>\n",
       "      <th>eq_num</th>\n",
       "      <th>eq_phase</th>\n",
       "      <th>volt_by_name</th>\n",
       "      <th>sample_year</th>\n",
       "      <th>sample_month</th>\n",
       "      <th>age(year)</th>\n",
       "      <th>age(month)</th>\n",
       "    </tr>\n",
       "  </thead>\n",
       "  <tbody>\n",
       "    <tr>\n",
       "      <th>0</th>\n",
       "      <td>제주본부</td>\n",
       "      <td>제주전력지사</td>\n",
       "      <td>0.0</td>\n",
       "      <td>0.0</td>\n",
       "      <td>0.0</td>\n",
       "      <td>7.0</td>\n",
       "      <td>0.0</td>\n",
       "      <td>0.0</td>\n",
       "      <td>23.0</td>\n",
       "      <td>84.0</td>\n",
       "      <td>7.0</td>\n",
       "      <td>7.0</td>\n",
       "      <td>114.0</td>\n",
       "      <td>1.0</td>\n",
       "      <td>1.4</td>\n",
       "      <td>1.0</td>\n",
       "      <td>1</td>\n",
       "      <td>신서귀S/S</td>\n",
       "      <td>M.Tr</td>\n",
       "      <td>#1</td>\n",
       "      <td>A</td>\n",
       "      <td>154</td>\n",
       "      <td>1998</td>\n",
       "      <td>6</td>\n",
       "      <td>0</td>\n",
       "      <td>5</td>\n",
       "    </tr>\n",
       "    <tr>\n",
       "      <th>1</th>\n",
       "      <td>제주본부</td>\n",
       "      <td>제주전력지사</td>\n",
       "      <td>10.0</td>\n",
       "      <td>0.0</td>\n",
       "      <td>0.0</td>\n",
       "      <td>1.0</td>\n",
       "      <td>0.0</td>\n",
       "      <td>0.0</td>\n",
       "      <td>87.0</td>\n",
       "      <td>1738.0</td>\n",
       "      <td>11.0</td>\n",
       "      <td>11.0</td>\n",
       "      <td>1836.0</td>\n",
       "      <td>1.0</td>\n",
       "      <td>0.1</td>\n",
       "      <td>1.0</td>\n",
       "      <td>1</td>\n",
       "      <td>신서귀S/S</td>\n",
       "      <td>M.Tr</td>\n",
       "      <td>#1</td>\n",
       "      <td>A</td>\n",
       "      <td>154</td>\n",
       "      <td>1998</td>\n",
       "      <td>11</td>\n",
       "      <td>0</td>\n",
       "      <td>10</td>\n",
       "    </tr>\n",
       "  </tbody>\n",
       "</table>\n",
       "</div>"
      ],
      "text/plain": [
       "  office1 office2    H2  C2H2  C2H4  CH4  C2H6  C3H8    CO     CO2  TCG1  \\\n",
       "0    제주본부  제주전력지사   0.0   0.0   0.0  7.0   0.0   0.0  23.0    84.0   7.0   \n",
       "1    제주본부  제주전력지사  10.0   0.0   0.0  1.0   0.0   0.0  87.0  1738.0  11.0   \n",
       "\n",
       "   TCG2      TG  C2H2/C2H4  CH4/H2  C2H4/C2H6  gas_ratio_p     S/S eq_type  \\\n",
       "0   7.0   114.0        1.0     1.4        1.0            1  신서귀S/S    M.Tr   \n",
       "1  11.0  1836.0        1.0     0.1        1.0            1  신서귀S/S    M.Tr   \n",
       "\n",
       "  eq_num eq_phase volt_by_name  sample_year  sample_month  age(year)  \\\n",
       "0     #1        A          154         1998             6          0   \n",
       "1     #1        A          154         1998            11          0   \n",
       "\n",
       "   age(month)  \n",
       "0           5  \n",
       "1          10  "
      ]
     },
     "execution_count": 10,
     "metadata": {},
     "output_type": "execute_result"
    }
   ],
   "source": [
    "data.head(2)"
   ]
  },
  {
   "cell_type": "code",
   "execution_count": 11,
   "metadata": {
    "ExecuteTime": {
     "end_time": "2020-05-08T05:45:54.000497Z",
     "start_time": "2020-05-08T05:45:53.987512Z"
    }
   },
   "outputs": [],
   "source": [
    "key_gas = data[['H2', 'C2H2', 'C2H4', 'CH4', 'C2H6']]"
   ]
  },
  {
   "cell_type": "code",
   "execution_count": 12,
   "metadata": {
    "ExecuteTime": {
     "end_time": "2020-05-08T05:45:54.940955Z",
     "start_time": "2020-05-08T05:45:54.002466Z"
    }
   },
   "outputs": [
    {
     "data": {
      "text/plain": [
       "<matplotlib.axes._subplots.AxesSubplot at 0x250b0700bc8>"
      ]
     },
     "execution_count": 12,
     "metadata": {},
     "output_type": "execute_result"
    },
    {
     "data": {
      "image/png": "[encoded data removed]",
      "text/plain": [
       "<Figure size 432x288 with 1 Axes>"
      ]
     },
     "metadata": {
      "needs_background": "light"
     },
     "output_type": "display_data"
    }
   ],
   "source": [
    "key_gas['C2H2'].plot(kind = 'hist', bins = 500)"
   ]
  },
  {
   "cell_type": "code",
   "execution_count": 13,
   "metadata": {
    "ExecuteTime": {
     "end_time": "2020-05-08T05:45:54.951940Z",
     "start_time": "2020-05-08T05:45:54.943950Z"
    }
   },
   "outputs": [
    {
     "data": {
      "text/plain": [
       "0.0"
      ]
     },
     "execution_count": 13,
     "metadata": {},
     "output_type": "execute_result"
    }
   ],
   "source": [
    "np.percentile(key_gas.loc[:, 'C2H2'].values, 90, interpolation = 'nearest')"
   ]
  },
  {
   "cell_type": "code",
   "execution_count": null,
   "metadata": {},
   "outputs": [],
   "source": []
  },
  {
   "cell_type": "code",
   "execution_count": 14,
   "metadata": {
    "ExecuteTime": {
     "end_time": "2020-05-08T05:45:55.881445Z",
     "start_time": "2020-05-08T05:45:54.953923Z"
    }
   },
   "outputs": [
    {
     "data": {
      "text/plain": [
       "<matplotlib.axes._subplots.AxesSubplot at 0x250b0766a48>"
      ]
     },
     "execution_count": 14,
     "metadata": {},
     "output_type": "execute_result"
    },
    {
     "data": {
      "image/png": "[encoded data removed]",
      "text/plain": [
       "<Figure size 432x288 with 1 Axes>"
      ]
     },
     "metadata": {
      "needs_background": "light"
     },
     "output_type": "display_data"
    }
   ],
   "source": [
    "key_gas.loc[:, 'C2H4'].plot(kind = 'hist', bins = 500)"
   ]
  },
  {
   "cell_type": "code",
   "execution_count": 15,
   "metadata": {
    "ExecuteTime": {
     "end_time": "2020-05-08T05:45:55.892414Z",
     "start_time": "2020-05-08T05:45:55.884435Z"
    }
   },
   "outputs": [
    {
     "data": {
      "text/plain": [
       "26.0"
      ]
     },
     "execution_count": 15,
     "metadata": {},
     "output_type": "execute_result"
    }
   ],
   "source": [
    "np.percentile(key_gas.loc[:, 'C2H4'].values, 90, interpolation = 'nearest')"
   ]
  },
  {
   "cell_type": "code",
   "execution_count": null,
   "metadata": {},
   "outputs": [],
   "source": []
  },
  {
   "cell_type": "code",
   "execution_count": 16,
   "metadata": {
    "ExecuteTime": {
     "end_time": "2020-05-08T05:45:56.745131Z",
     "start_time": "2020-05-08T05:45:55.894408Z"
    }
   },
   "outputs": [
    {
     "data": {
      "text/plain": [
       "<matplotlib.axes._subplots.AxesSubplot at 0x250a65b2088>"
      ]
     },
     "execution_count": 16,
     "metadata": {},
     "output_type": "execute_result"
    },
    {
     "data": {
      "image/png": "[encoded data removed]",
      "text/plain": [
       "<Figure size 432x288 with 1 Axes>"
      ]
     },
     "metadata": {
      "needs_background": "light"
     },
     "output_type": "display_data"
    }
   ],
   "source": [
    "key_gas.loc[:, 'CH4'].plot(kind = 'hist', bins = 500)"
   ]
  },
  {
   "cell_type": "code",
   "execution_count": 17,
   "metadata": {
    "ExecuteTime": {
     "end_time": "2020-05-08T05:45:56.754111Z",
     "start_time": "2020-05-08T05:45:56.747134Z"
    }
   },
   "outputs": [
    {
     "data": {
      "text/plain": [
       "91.0"
      ]
     },
     "execution_count": 17,
     "metadata": {},
     "output_type": "execute_result"
    }
   ],
   "source": [
    "np.percentile(key_gas.loc[:, 'CH4'].values, 90, interpolation = 'nearest')"
   ]
  },
  {
   "cell_type": "code",
   "execution_count": null,
   "metadata": {},
   "outputs": [],
   "source": []
  },
  {
   "cell_type": "code",
   "execution_count": 18,
   "metadata": {
    "ExecuteTime": {
     "end_time": "2020-05-08T05:45:57.789371Z",
     "start_time": "2020-05-08T05:45:56.756103Z"
    }
   },
   "outputs": [
    {
     "data": {
      "text/plain": [
       "<matplotlib.axes._subplots.AxesSubplot at 0x250b6553c88>"
      ]
     },
     "execution_count": 18,
     "metadata": {},
     "output_type": "execute_result"
    },
    {
     "data": {
      "image/png": "[encoded data removed]",
      "text/plain": [
       "<Figure size 432x288 with 1 Axes>"
      ]
     },
     "metadata": {
      "needs_background": "light"
     },
     "output_type": "display_data"
    }
   ],
   "source": [
    "key_gas.loc[:, 'H2'].plot(kind = 'hist', bins = 500)"
   ]
  },
  {
   "cell_type": "code",
   "execution_count": 19,
   "metadata": {
    "ExecuteTime": {
     "end_time": "2020-05-08T05:45:57.799334Z",
     "start_time": "2020-05-08T05:45:57.791361Z"
    }
   },
   "outputs": [
    {
     "data": {
      "text/plain": [
       "21.0"
      ]
     },
     "execution_count": 19,
     "metadata": {},
     "output_type": "execute_result"
    }
   ],
   "source": [
    "np.percentile(key_gas.loc[:, 'H2'].values, 90, interpolation = 'nearest')"
   ]
  },
  {
   "cell_type": "code",
   "execution_count": null,
   "metadata": {},
   "outputs": [],
   "source": []
  },
  {
   "cell_type": "code",
   "execution_count": 20,
   "metadata": {
    "ExecuteTime": {
     "end_time": "2020-05-08T05:45:58.670982Z",
     "start_time": "2020-05-08T05:45:57.801308Z"
    }
   },
   "outputs": [
    {
     "data": {
      "text/plain": [
       "<matplotlib.axes._subplots.AxesSubplot at 0x250b7862d88>"
      ]
     },
     "execution_count": 20,
     "metadata": {},
     "output_type": "execute_result"
    },
    {
     "data": {
      "image/png": "[encoded data removed]",
      "text/plain": [
       "<Figure size 432x288 with 1 Axes>"
      ]
     },
     "metadata": {
      "needs_background": "light"
     },
     "output_type": "display_data"
    }
   ],
   "source": [
    "key_gas.loc[:, 'C2H6'].plot(kind = 'hist', bins = 500)"
   ]
  },
  {
   "cell_type": "code",
   "execution_count": 21,
   "metadata": {
    "ExecuteTime": {
     "end_time": "2020-05-08T05:45:58.681953Z",
     "start_time": "2020-05-08T05:45:58.672979Z"
    }
   },
   "outputs": [
    {
     "data": {
      "text/plain": [
       "171.0"
      ]
     },
     "execution_count": 21,
     "metadata": {},
     "output_type": "execute_result"
    }
   ],
   "source": [
    "np.percentile(key_gas.loc[:, 'C2H6'].values, 90, interpolation = 'nearest')"
   ]
  },
  {
   "cell_type": "code",
   "execution_count": null,
   "metadata": {},
   "outputs": [],
   "source": []
  },
  {
   "cell_type": "code",
   "execution_count": 22,
   "metadata": {
    "ExecuteTime": {
     "end_time": "2020-05-08T05:45:58.697913Z",
     "start_time": "2020-05-08T05:45:58.683948Z"
    }
   },
   "outputs": [],
   "source": [
    "PERCENTILE = 90"
   ]
  },
  {
   "cell_type": "code",
   "execution_count": 23,
   "metadata": {
    "ExecuteTime": {
     "end_time": "2020-05-08T05:45:58.726833Z",
     "start_time": "2020-05-08T05:45:58.700905Z"
    }
   },
   "outputs": [
    {
     "name": "stdout",
     "output_type": "stream",
     "text": [
      "Typical values:\n",
      "C2H2: 0.0\n",
      "C2H4: 26.0\n",
      "CH4: 91.0\n",
      "H2: 21.0\n",
      "C2H6: 171.0\n"
     ]
    }
   ],
   "source": [
    "C2H2_nor_lim = np.percentile(key_gas['C2H2'].values, PERCENTILE, \n",
    "                                 interpolation = 'nearest')\n",
    "C2H4_nor_lim = np.percentile(key_gas['C2H4'].values,  PERCENTILE,\n",
    "                                 interpolation = 'nearest')\n",
    "CH4_nor_lim = np.percentile(key_gas['CH4'].values,  PERCENTILE,\n",
    "                                 interpolation = 'nearest')\n",
    "H2_nor_lim = np.percentile(key_gas['H2'].values,  PERCENTILE,\n",
    "                                 interpolation = 'nearest')\n",
    "C2H6_nor_lim = np.percentile(key_gas['C2H6'].values,  PERCENTILE,\n",
    "                                 interpolation = 'nearest')\n",
    "print('Typical values:')\n",
    "print('C2H2: {}'.format(C2H2_nor_lim))\n",
    "print('C2H4: {}'.format(C2H4_nor_lim))\n",
    "print('CH4: {}'.format(CH4_nor_lim))\n",
    "print('H2: {}'.format(H2_nor_lim))\n",
    "print('C2H6: {}'.format(C2H6_nor_lim))"
   ]
  },
  {
   "cell_type": "code",
   "execution_count": 24,
   "metadata": {
    "ExecuteTime": {
     "end_time": "2020-05-08T05:45:58.738803Z",
     "start_time": "2020-05-08T05:45:58.729827Z"
    }
   },
   "outputs": [],
   "source": [
    "def val_gas(gas): #gas 측정 값이 가 계산이 가능할 정도인지 계산\n",
    "    H2_lim = 5.0; CH_lim = 1.0;\n",
    "    if gas['C2H2'] <=CH_lim*10:\n",
    "        C2H2_val = CH_lim\n",
    "    else:\n",
    "        C2H2_val = gas['C2H2']\n",
    "    \n",
    "    if gas['C2H4'] <=CH_lim*10:\n",
    "        C2H4_val = CH_lim\n",
    "    else:\n",
    "        C2H4_val = gas['C2H4']\n",
    "        \n",
    "    if gas['CH4'] <=CH_lim*10:\n",
    "        CH4_val = CH_lim\n",
    "    else:\n",
    "        CH4_val = gas['CH4']\n",
    "        \n",
    "    if gas['C2H6'] <=CH_lim*10:\n",
    "        C2H6_val = CH_lim\n",
    "    else:\n",
    "        C2H6_val = gas['C2H6']\n",
    "        \n",
    "    if gas['H2'] <= H2_lim*10:\n",
    "        H2_val = H2_lim\n",
    "    else:\n",
    "        H2_val = gas['H2']\n",
    "        \n",
    "    return C2H2_val, C2H4_val, CH4_val, H2_val, C2H6_val"
   ]
  },
  {
   "cell_type": "code",
   "execution_count": 25,
   "metadata": {
    "ExecuteTime": {
     "end_time": "2020-05-08T05:45:58.751788Z",
     "start_time": "2020-05-08T05:45:58.741796Z"
    }
   },
   "outputs": [],
   "source": [
    "def IEC60599(gas, C2H2_nor_lim, C2H4_nor_lim, CH4_nor_lim, H2_nor_lim, C2H6_nor_lim):\n",
    "\n",
    "    # key gas :'C2H2', 'C2H4', 'CH4', 'H2', 'C2H6'\n",
    "    if (gas['C2H2']<= C2H2_nor_lim) and (gas['C2H4']<= C2H4_nor_lim) and \\\n",
    "       (gas['CH4']<= CH4_nor_lim) and (gas['H2']<= H2_nor_lim) and \\\n",
    "       (gas['C2H6']<= C2H6_nor_lim): #C2H2_nor_lim=0 이므로 등호포함\n",
    "        return 'Normal'\n",
    "    \n",
    "    else:\n",
    "        C2H2, C2H4, CH4, H2, C2H6 = val_gas(gas)\n",
    "        r1 = C2H2/C2H4; r2 = CH4/H2; r3 = C2H4/C2H6;\n",
    "        \n",
    "        if (r2 < 0.1) & (r3 < 0.2):\n",
    "            return 'PD'\n",
    "        \n",
    "        elif (r1 > 1.0) & (0.1<= r2 <= 0.5) & (r3 > 1.0):\n",
    "            return 'D1'\n",
    "        \n",
    "        elif (0.6 <= r1 <= 2.5) & (0.1<= r2 <= 1.0) & (r3 > 2.0):\n",
    "            return 'D2'\n",
    "        \n",
    "        elif (r2 > 1.0) & (r3 < 1.0):\n",
    "            return 'T1'\n",
    "        \n",
    "        elif (r1 < 0.1) & (r2 > 1.0) & (1.0 <= r3 <= 4.0):\n",
    "            return 'T2'\n",
    "        \n",
    "        elif (r1 < 0.2) & (r2 > 1.0) & (r3 > 4.0):\n",
    "            return 'T3'\n",
    "        \n",
    "        else:\n",
    "            return 'None'"
   ]
  },
  {
   "cell_type": "code",
   "execution_count": 26,
   "metadata": {
    "ExecuteTime": {
     "end_time": "2020-05-08T05:46:09.427253Z",
     "start_time": "2020-05-08T05:45:58.753763Z"
    }
   },
   "outputs": [],
   "source": [
    "data['r(IEC)'] = data[['C2H2', 'C2H4', 'CH4', 'H2', 'C2H6']].apply(IEC60599, \n",
    "                        C2H2_nor_lim = C2H2_nor_lim, C2H4_nor_lim= C2H4_nor_lim, \n",
    "                        CH4_nor_lim= CH4_nor_lim, H2_nor_lim=H2_nor_lim, \n",
    "                        C2H6_nor_lim=C2H6_nor_lim, axis = 1)"
   ]
  },
  {
   "cell_type": "code",
   "execution_count": 27,
   "metadata": {
    "ExecuteTime": {
     "end_time": "2020-05-08T05:46:09.460167Z",
     "start_time": "2020-05-08T05:46:09.430226Z"
    }
   },
   "outputs": [
    {
     "data": {
      "text/html": [
       "<div>\n",
       "<style scoped>\n",
       "    .dataframe tbody tr th:only-of-type {\n",
       "        vertical-align: middle;\n",
       "    }\n",
       "\n",
       "    .dataframe tbody tr th {\n",
       "        vertical-align: top;\n",
       "    }\n",
       "\n",
       "    .dataframe thead th {\n",
       "        text-align: right;\n",
       "    }\n",
       "</style>\n",
       "<table border=\"1\" class=\"dataframe\">\n",
       "  <thead>\n",
       "    <tr style=\"text-align: right;\">\n",
       "      <th></th>\n",
       "      <th>office1</th>\n",
       "      <th>office2</th>\n",
       "      <th>H2</th>\n",
       "      <th>C2H2</th>\n",
       "      <th>C2H4</th>\n",
       "      <th>CH4</th>\n",
       "      <th>C2H6</th>\n",
       "      <th>C3H8</th>\n",
       "      <th>CO</th>\n",
       "      <th>CO2</th>\n",
       "      <th>TCG1</th>\n",
       "      <th>TCG2</th>\n",
       "      <th>TG</th>\n",
       "      <th>C2H2/C2H4</th>\n",
       "      <th>CH4/H2</th>\n",
       "      <th>C2H4/C2H6</th>\n",
       "      <th>gas_ratio_p</th>\n",
       "      <th>S/S</th>\n",
       "      <th>eq_type</th>\n",
       "      <th>eq_num</th>\n",
       "      <th>eq_phase</th>\n",
       "      <th>volt_by_name</th>\n",
       "      <th>sample_year</th>\n",
       "      <th>sample_month</th>\n",
       "      <th>age(year)</th>\n",
       "      <th>age(month)</th>\n",
       "      <th>r(IEC)</th>\n",
       "    </tr>\n",
       "  </thead>\n",
       "  <tbody>\n",
       "    <tr>\n",
       "      <th>0</th>\n",
       "      <td>제주본부</td>\n",
       "      <td>제주전력지사</td>\n",
       "      <td>0.0</td>\n",
       "      <td>0.0</td>\n",
       "      <td>0.0</td>\n",
       "      <td>7.0</td>\n",
       "      <td>0.0</td>\n",
       "      <td>0.0</td>\n",
       "      <td>23.0</td>\n",
       "      <td>84.0</td>\n",
       "      <td>7.0</td>\n",
       "      <td>7.0</td>\n",
       "      <td>114.0</td>\n",
       "      <td>1.0</td>\n",
       "      <td>1.4</td>\n",
       "      <td>1.0</td>\n",
       "      <td>1</td>\n",
       "      <td>신서귀S/S</td>\n",
       "      <td>M.Tr</td>\n",
       "      <td>#1</td>\n",
       "      <td>A</td>\n",
       "      <td>154</td>\n",
       "      <td>1998</td>\n",
       "      <td>6</td>\n",
       "      <td>0</td>\n",
       "      <td>5</td>\n",
       "      <td>Normal</td>\n",
       "    </tr>\n",
       "    <tr>\n",
       "      <th>1</th>\n",
       "      <td>제주본부</td>\n",
       "      <td>제주전력지사</td>\n",
       "      <td>10.0</td>\n",
       "      <td>0.0</td>\n",
       "      <td>0.0</td>\n",
       "      <td>1.0</td>\n",
       "      <td>0.0</td>\n",
       "      <td>0.0</td>\n",
       "      <td>87.0</td>\n",
       "      <td>1738.0</td>\n",
       "      <td>11.0</td>\n",
       "      <td>11.0</td>\n",
       "      <td>1836.0</td>\n",
       "      <td>1.0</td>\n",
       "      <td>0.1</td>\n",
       "      <td>1.0</td>\n",
       "      <td>1</td>\n",
       "      <td>신서귀S/S</td>\n",
       "      <td>M.Tr</td>\n",
       "      <td>#1</td>\n",
       "      <td>A</td>\n",
       "      <td>154</td>\n",
       "      <td>1998</td>\n",
       "      <td>11</td>\n",
       "      <td>0</td>\n",
       "      <td>10</td>\n",
       "      <td>Normal</td>\n",
       "    </tr>\n",
       "  </tbody>\n",
       "</table>\n",
       "</div>"
      ],
      "text/plain": [
       "  office1 office2    H2  C2H2  C2H4  CH4  C2H6  C3H8    CO     CO2  TCG1  \\\n",
       "0    제주본부  제주전력지사   0.0   0.0   0.0  7.0   0.0   0.0  23.0    84.0   7.0   \n",
       "1    제주본부  제주전력지사  10.0   0.0   0.0  1.0   0.0   0.0  87.0  1738.0  11.0   \n",
       "\n",
       "   TCG2      TG  C2H2/C2H4  CH4/H2  C2H4/C2H6  gas_ratio_p     S/S eq_type  \\\n",
       "0   7.0   114.0        1.0     1.4        1.0            1  신서귀S/S    M.Tr   \n",
       "1  11.0  1836.0        1.0     0.1        1.0            1  신서귀S/S    M.Tr   \n",
       "\n",
       "  eq_num eq_phase volt_by_name  sample_year  sample_month  age(year)  \\\n",
       "0     #1        A          154         1998             6          0   \n",
       "1     #1        A          154         1998            11          0   \n",
       "\n",
       "   age(month)  r(IEC)  \n",
       "0           5  Normal  \n",
       "1          10  Normal  "
      ]
     },
     "execution_count": 27,
     "metadata": {},
     "output_type": "execute_result"
    }
   ],
   "source": [
    "data.head(2)"
   ]
  },
  {
   "cell_type": "code",
   "execution_count": 28,
   "metadata": {
    "ExecuteTime": {
     "end_time": "2020-05-08T05:46:09.485067Z",
     "start_time": "2020-05-08T05:46:09.463128Z"
    }
   },
   "outputs": [
    {
     "data": {
      "text/plain": [
       "Normal    101743\n",
       "T1         17868\n",
       "None       10341\n",
       "T3          3052\n",
       "T2          2471\n",
       "PD           270\n",
       "D1           148\n",
       "D2            48\n",
       "Name: r(IEC), dtype: int64"
      ]
     },
     "execution_count": 28,
     "metadata": {},
     "output_type": "execute_result"
    }
   ],
   "source": [
    "data['r(IEC)'].value_counts()"
   ]
  },
  {
   "cell_type": "code",
   "execution_count": null,
   "metadata": {},
   "outputs": [],
   "source": []
  },
  {
   "cell_type": "markdown",
   "metadata": {},
   "source": [
    "### 3.2 IEC Duval기준\n",
    "- 코드 작성 시 하기 논문을 참고하였음  \n",
    "- https://www.semanticscholar.org/paper/Implementation-of-Duval-Triangle-Technique-for-DGA-Singh-Joshi/d5b21a6defbcb6af5cb150c8ca7968312ed8c3b5/figure/5"
   ]
  },
  {
   "cell_type": "markdown",
   "metadata": {},
   "source": [
    "<img src = 'pic/2.12.11.jpg' width = 400>"
   ]
  },
  {
   "cell_type": "markdown",
   "metadata": {},
   "source": [
    "<img src = 'pic/2.12.12.jpg' width = 400>"
   ]
  },
  {
   "cell_type": "markdown",
   "metadata": {},
   "source": [
    "<img src = 'pic/2.12.13.jpg' width = 500>"
   ]
  },
  {
   "cell_type": "markdown",
   "metadata": {},
   "source": [
    "- 참고자료 : https://www.semanticscholar.org/paper/Implementation-of-Duval-Triangle-Technique-for-DGA-Singh-Joshi/d5b21a6defbcb6af5cb150c8ca7968312ed8c3b5/figure/5"
   ]
  },
  {
   "cell_type": "code",
   "execution_count": 29,
   "metadata": {
    "ExecuteTime": {
     "end_time": "2020-05-08T05:46:09.500029Z",
     "start_time": "2020-05-08T05:46:09.487064Z"
    }
   },
   "outputs": [],
   "source": [
    "def IECduval(gas, C2H2_nor_lim, C2H4_nor_lim, CH4_nor_lim, H2_nor_lim, C2H6_nor_lim):\n",
    "\n",
    "    if (gas['CH4']>120) or (gas['C2H4']>50) or (gas['C2H2']>1):\n",
    "        return 'None'\n",
    "    # key gas :'C2H2', 'C2H4', 'CH4', 'H2', 'C2H6'\n",
    "    elif (gas['C2H2']<= C2H2_nor_lim) and (gas['C2H4']<= C2H4_nor_lim) and \\\n",
    "       (gas['CH4']<= CH4_nor_lim) and (gas['H2']<= H2_nor_lim) and \\\n",
    "       (gas['C2H6']<= C2H6_nor_lim): #C2H2_nor_lim=0 이므로 등호포함\n",
    "        return 'Normal'\n",
    "    \n",
    "    else:\n",
    "        C2H2, C2H4, CH4, _, _ = val_gas(gas)\n",
    "        total = (C2H2 + C2H4 + CH4)\n",
    "        p1 = (C2H2/total)*100.0; p2 = (C2H4/total)*100.0; p3 = (CH4/total)*100.0;\n",
    "        \n",
    "        if p1 >= 98:\n",
    "            return 'PD'\n",
    "        \n",
    "        elif p3 < 4:\n",
    "            if 20 <= p2 <= 50:\n",
    "                return 'T2'\n",
    "            elif p2<20:\n",
    "                return 'T1'\n",
    "            else:\n",
    "                return 'T'\n",
    "        \n",
    "        elif (p3 < 13) & (p2 < 23):\n",
    "            return 'D1'\n",
    "        \n",
    "        elif p3 < 15 :\n",
    "            if p2 >= 50:\n",
    "                return 'T3'\n",
    "            else:\n",
    "                return 'T'\n",
    "        \n",
    "        elif (29 <= p3 <= 77) & (23 <= p2 <= 40):\n",
    "            return 'D2'\n",
    "        \n",
    "        else:\n",
    "            return 'T'"
   ]
  },
  {
   "cell_type": "code",
   "execution_count": 30,
   "metadata": {
    "ExecuteTime": {
     "end_time": "2020-05-08T05:46:22.988968Z",
     "start_time": "2020-05-08T05:46:09.502023Z"
    }
   },
   "outputs": [],
   "source": [
    "data['r(IECduval)'] = data[['C2H2', 'C2H4', 'CH4', 'H2', 'C2H6']].apply(IECduval, \n",
    "                        C2H2_nor_lim = C2H2_nor_lim, C2H4_nor_lim= C2H4_nor_lim, \n",
    "                        CH4_nor_lim= CH4_nor_lim, H2_nor_lim=H2_nor_lim, \n",
    "                        C2H6_nor_lim=C2H6_nor_lim, axis = 1)"
   ]
  },
  {
   "cell_type": "code",
   "execution_count": 31,
   "metadata": {
    "ExecuteTime": {
     "end_time": "2020-05-08T05:46:23.019876Z",
     "start_time": "2020-05-08T05:46:22.990979Z"
    }
   },
   "outputs": [
    {
     "data": {
      "text/html": [
       "<div>\n",
       "<style scoped>\n",
       "    .dataframe tbody tr th:only-of-type {\n",
       "        vertical-align: middle;\n",
       "    }\n",
       "\n",
       "    .dataframe tbody tr th {\n",
       "        vertical-align: top;\n",
       "    }\n",
       "\n",
       "    .dataframe thead th {\n",
       "        text-align: right;\n",
       "    }\n",
       "</style>\n",
       "<table border=\"1\" class=\"dataframe\">\n",
       "  <thead>\n",
       "    <tr style=\"text-align: right;\">\n",
       "      <th></th>\n",
       "      <th>office1</th>\n",
       "      <th>office2</th>\n",
       "      <th>H2</th>\n",
       "      <th>C2H2</th>\n",
       "      <th>C2H4</th>\n",
       "      <th>CH4</th>\n",
       "      <th>C2H6</th>\n",
       "      <th>C3H8</th>\n",
       "      <th>CO</th>\n",
       "      <th>CO2</th>\n",
       "      <th>TCG1</th>\n",
       "      <th>TCG2</th>\n",
       "      <th>TG</th>\n",
       "      <th>C2H2/C2H4</th>\n",
       "      <th>CH4/H2</th>\n",
       "      <th>C2H4/C2H6</th>\n",
       "      <th>gas_ratio_p</th>\n",
       "      <th>S/S</th>\n",
       "      <th>eq_type</th>\n",
       "      <th>eq_num</th>\n",
       "      <th>eq_phase</th>\n",
       "      <th>volt_by_name</th>\n",
       "      <th>sample_year</th>\n",
       "      <th>sample_month</th>\n",
       "      <th>age(year)</th>\n",
       "      <th>age(month)</th>\n",
       "      <th>r(IEC)</th>\n",
       "      <th>r(IECduval)</th>\n",
       "    </tr>\n",
       "  </thead>\n",
       "  <tbody>\n",
       "    <tr>\n",
       "      <th>0</th>\n",
       "      <td>제주본부</td>\n",
       "      <td>제주전력지사</td>\n",
       "      <td>0.0</td>\n",
       "      <td>0.0</td>\n",
       "      <td>0.0</td>\n",
       "      <td>7.0</td>\n",
       "      <td>0.0</td>\n",
       "      <td>0.0</td>\n",
       "      <td>23.0</td>\n",
       "      <td>84.0</td>\n",
       "      <td>7.0</td>\n",
       "      <td>7.0</td>\n",
       "      <td>114.0</td>\n",
       "      <td>1.0</td>\n",
       "      <td>1.4</td>\n",
       "      <td>1.0</td>\n",
       "      <td>1</td>\n",
       "      <td>신서귀S/S</td>\n",
       "      <td>M.Tr</td>\n",
       "      <td>#1</td>\n",
       "      <td>A</td>\n",
       "      <td>154</td>\n",
       "      <td>1998</td>\n",
       "      <td>6</td>\n",
       "      <td>0</td>\n",
       "      <td>5</td>\n",
       "      <td>Normal</td>\n",
       "      <td>Normal</td>\n",
       "    </tr>\n",
       "    <tr>\n",
       "      <th>1</th>\n",
       "      <td>제주본부</td>\n",
       "      <td>제주전력지사</td>\n",
       "      <td>10.0</td>\n",
       "      <td>0.0</td>\n",
       "      <td>0.0</td>\n",
       "      <td>1.0</td>\n",
       "      <td>0.0</td>\n",
       "      <td>0.0</td>\n",
       "      <td>87.0</td>\n",
       "      <td>1738.0</td>\n",
       "      <td>11.0</td>\n",
       "      <td>11.0</td>\n",
       "      <td>1836.0</td>\n",
       "      <td>1.0</td>\n",
       "      <td>0.1</td>\n",
       "      <td>1.0</td>\n",
       "      <td>1</td>\n",
       "      <td>신서귀S/S</td>\n",
       "      <td>M.Tr</td>\n",
       "      <td>#1</td>\n",
       "      <td>A</td>\n",
       "      <td>154</td>\n",
       "      <td>1998</td>\n",
       "      <td>11</td>\n",
       "      <td>0</td>\n",
       "      <td>10</td>\n",
       "      <td>Normal</td>\n",
       "      <td>Normal</td>\n",
       "    </tr>\n",
       "  </tbody>\n",
       "</table>\n",
       "</div>"
      ],
      "text/plain": [
       "  office1 office2    H2  C2H2  C2H4  CH4  C2H6  C3H8    CO     CO2  TCG1  \\\n",
       "0    제주본부  제주전력지사   0.0   0.0   0.0  7.0   0.0   0.0  23.0    84.0   7.0   \n",
       "1    제주본부  제주전력지사  10.0   0.0   0.0  1.0   0.0   0.0  87.0  1738.0  11.0   \n",
       "\n",
       "   TCG2      TG  C2H2/C2H4  CH4/H2  C2H4/C2H6  gas_ratio_p     S/S eq_type  \\\n",
       "0   7.0   114.0        1.0     1.4        1.0            1  신서귀S/S    M.Tr   \n",
       "1  11.0  1836.0        1.0     0.1        1.0            1  신서귀S/S    M.Tr   \n",
       "\n",
       "  eq_num eq_phase volt_by_name  sample_year  sample_month  age(year)  \\\n",
       "0     #1        A          154         1998             6          0   \n",
       "1     #1        A          154         1998            11          0   \n",
       "\n",
       "   age(month)  r(IEC) r(IECduval)  \n",
       "0           5  Normal      Normal  \n",
       "1          10  Normal      Normal  "
      ]
     },
     "execution_count": 31,
     "metadata": {},
     "output_type": "execute_result"
    }
   ],
   "source": [
    "data.head(2)"
   ]
  },
  {
   "cell_type": "code",
   "execution_count": 32,
   "metadata": {
    "ExecuteTime": {
     "end_time": "2020-05-08T05:46:23.047819Z",
     "start_time": "2020-05-08T05:46:23.024864Z"
    }
   },
   "outputs": [
    {
     "data": {
      "text/plain": [
       "Normal    101743\n",
       "None       15037\n",
       "T          12443\n",
       "D2          6336\n",
       "T3           382\n",
       "Name: r(IECduval), dtype: int64"
      ]
     },
     "execution_count": 32,
     "metadata": {},
     "output_type": "execute_result"
    }
   ],
   "source": [
    "data['r(IECduval)'].value_counts()"
   ]
  },
  {
   "cell_type": "code",
   "execution_count": null,
   "metadata": {},
   "outputs": [],
   "source": []
  }
 ],
 "metadata": {
  "kernelspec": {
   "display_name": "Python 3 (ipykernel)",
   "language": "python",
   "name": "python3"
  },
  "language_info": {
   "codemirror_mode": {
    "name": "ipython",
    "version": 3
   },
   "file_extension": ".py",
   "mimetype": "text/x-python",
   "name": "python",
   "nbconvert_exporter": "python",
   "pygments_lexer": "ipython3",
   "version": "3.9.12"
  }
 },
 "nbformat": 4,
 "nbformat_minor": 4
}
