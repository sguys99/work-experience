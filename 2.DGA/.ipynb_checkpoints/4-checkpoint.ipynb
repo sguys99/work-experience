{
 "cells": [
  {
   "cell_type": "markdown",
   "metadata": {},
   "source": [
    "## DGA 데이터 전처리 : Part 4 측정가스 정보"
   ]
  },
  {
   "cell_type": "markdown",
   "metadata": {},
   "source": [
    "<div style=\"text-align: right\"> 작성자 : 유광명</div>  "
   ]
  },
  {
   "cell_type": "markdown",
   "metadata": {},
   "source": [
    "<div style=\"text-align: right\"> 1차 수정일: 2020.05.12 </div> \n",
    "<div style=\"text-align: right\"> 최종 수정일: 2023.02.01 </div> "
   ]
  },
  {
   "cell_type": "markdown",
   "metadata": {},
   "source": [
    "### 0. 환경설정 및 데이터 로딩"
   ]
  },
  {
   "cell_type": "code",
   "execution_count": 1,
   "metadata": {},
   "outputs": [],
   "source": [
    "from tqdm.notebook import tqdm\n",
    "import time\n",
    "import numpy as np\n",
    "import pandas as pd\n",
    "import matplotlib as mpl\n",
    "import matplotlib.pyplot as plt\n",
    "from matplotlib import font_manager, rc\n",
    "import seaborn as sns\n",
    "import scipy as sp\n",
    "import datetime\n",
    "import missingno as msno\n",
    "import warnings; warnings.filterwarnings('ignore')\n",
    "plt.style.use('ggplot')\n",
    "%matplotlib inline\n",
    "\n",
    "# Options for pandas\n",
    "pd.options.display.max_columns = 60\n",
    "\n",
    "mpl.rcParams['axes.unicode_minus'] = False\n",
    "_path = \"c:\\Windows\\Fonts\\KoPubWorld Dotum Bold.ttf\"\n",
    "_font_name = font_manager.FontProperties(fname=_path).get_name()\n",
    "rc('font', family=_font_name)\n",
    "mpl.rcParams['axes.unicode_minus']=False # 마이너스 폰트 깨짐방지\n",
    "\n",
    "# 그래프 크기 설정\n",
    "font_n = 15\n",
    "font_d = 12\n",
    "figure_hrz = 15"
   ]
  },
  {
   "cell_type": "code",
   "execution_count": 2,
   "metadata": {},
   "outputs": [],
   "source": [
    "inputPath = 'result3.pkl'"
   ]
  },
  {
   "cell_type": "code",
   "execution_count": 3,
   "metadata": {},
   "outputs": [],
   "source": [
    "df = pd.read_pickle(inputPath)"
   ]
  },
  {
   "cell_type": "code",
   "execution_count": 4,
   "metadata": {},
   "outputs": [
    {
     "data": {
      "text/html": [
       "<div>\n",
       "<style scoped>\n",
       "    .dataframe tbody tr th:only-of-type {\n",
       "        vertical-align: middle;\n",
       "    }\n",
       "\n",
       "    .dataframe tbody tr th {\n",
       "        vertical-align: top;\n",
       "    }\n",
       "\n",
       "    .dataframe thead th {\n",
       "        text-align: right;\n",
       "    }\n",
       "</style>\n",
       "<table border=\"1\" class=\"dataframe\">\n",
       "  <thead>\n",
       "    <tr style=\"text-align: right;\">\n",
       "      <th></th>\n",
       "      <th>office1</th>\n",
       "      <th>office2</th>\n",
       "      <th>name</th>\n",
       "      <th>S/S</th>\n",
       "      <th>eq_type</th>\n",
       "      <th>eq_num</th>\n",
       "      <th>eq_phase</th>\n",
       "      <th>maker</th>\n",
       "      <th>volt</th>\n",
       "      <th>volt_by_name</th>\n",
       "      <th>operation</th>\n",
       "      <th>anal_type</th>\n",
       "      <th>mfg_year</th>\n",
       "      <th>sample_date</th>\n",
       "      <th>sample_year</th>\n",
       "      <th>sample_month</th>\n",
       "      <th>sample_season</th>\n",
       "      <th>age(year)</th>\n",
       "      <th>age(month)</th>\n",
       "      <th>long_term</th>\n",
       "      <th>H2</th>\n",
       "      <th>C2H2</th>\n",
       "      <th>C2H4</th>\n",
       "      <th>CH4</th>\n",
       "      <th>C2H6</th>\n",
       "      <th>C3H8</th>\n",
       "      <th>TCG</th>\n",
       "      <th>CO</th>\n",
       "      <th>CO2</th>\n",
       "      <th>r1(KEPCO)</th>\n",
       "      <th>r2(KEPCO)</th>\n",
       "      <th>etc</th>\n",
       "    </tr>\n",
       "  </thead>\n",
       "  <tbody>\n",
       "    <tr>\n",
       "      <th>0</th>\n",
       "      <td>제주본부</td>\n",
       "      <td>제주전력지사</td>\n",
       "      <td>신서귀S/S  154kV  #1   M.Tr A</td>\n",
       "      <td>신서귀S/S</td>\n",
       "      <td>M.Tr</td>\n",
       "      <td>#1</td>\n",
       "      <td>A</td>\n",
       "      <td>효성</td>\n",
       "      <td>154</td>\n",
       "      <td>154</td>\n",
       "      <td>운전중</td>\n",
       "      <td>임시</td>\n",
       "      <td>1998</td>\n",
       "      <td>2017-01-11</td>\n",
       "      <td>2017</td>\n",
       "      <td>1</td>\n",
       "      <td>3</td>\n",
       "      <td>19</td>\n",
       "      <td>228</td>\n",
       "      <td>1</td>\n",
       "      <td>0.0</td>\n",
       "      <td>0.0</td>\n",
       "      <td>3.0</td>\n",
       "      <td>0.0</td>\n",
       "      <td>1.0</td>\n",
       "      <td>1.0</td>\n",
       "      <td>5.0</td>\n",
       "      <td>39.0</td>\n",
       "      <td>543.0</td>\n",
       "      <td>정상</td>\n",
       "      <td>정상</td>\n",
       "      <td>정밀점검 1개월후</td>\n",
       "    </tr>\n",
       "    <tr>\n",
       "      <th>1</th>\n",
       "      <td>제주본부</td>\n",
       "      <td>제주전력지사</td>\n",
       "      <td>신서귀S/S  154kV  #1   M.Tr A</td>\n",
       "      <td>신서귀S/S</td>\n",
       "      <td>M.Tr</td>\n",
       "      <td>#1</td>\n",
       "      <td>A</td>\n",
       "      <td>효성</td>\n",
       "      <td>154</td>\n",
       "      <td>154</td>\n",
       "      <td>운전중</td>\n",
       "      <td>임시</td>\n",
       "      <td>1998</td>\n",
       "      <td>2017-11-03</td>\n",
       "      <td>2017</td>\n",
       "      <td>11</td>\n",
       "      <td>2</td>\n",
       "      <td>19</td>\n",
       "      <td>238</td>\n",
       "      <td>1</td>\n",
       "      <td>13.0</td>\n",
       "      <td>0.0</td>\n",
       "      <td>2.0</td>\n",
       "      <td>1.0</td>\n",
       "      <td>1.0</td>\n",
       "      <td>2.0</td>\n",
       "      <td>19.0</td>\n",
       "      <td>117.0</td>\n",
       "      <td>1600.0</td>\n",
       "      <td>정상</td>\n",
       "      <td>정상</td>\n",
       "      <td>중부하 운전 변압기</td>\n",
       "    </tr>\n",
       "  </tbody>\n",
       "</table>\n",
       "</div>"
      ],
      "text/plain": [
       "  office1 office2                        name     S/S eq_type eq_num eq_phase  \\\n",
       "0    제주본부  제주전력지사  신서귀S/S  154kV  #1   M.Tr A  신서귀S/S    M.Tr     #1        A   \n",
       "1    제주본부  제주전력지사  신서귀S/S  154kV  #1   M.Tr A  신서귀S/S    M.Tr     #1        A   \n",
       "\n",
       "  maker volt volt_by_name operation anal_type  mfg_year sample_date  \\\n",
       "0    효성  154          154       운전중        임시      1998  2017-01-11   \n",
       "1    효성  154          154       운전중        임시      1998  2017-11-03   \n",
       "\n",
       "   sample_year  sample_month  sample_season  age(year)  age(month)  long_term  \\\n",
       "0         2017             1              3         19         228          1   \n",
       "1         2017            11              2         19         238          1   \n",
       "\n",
       "     H2  C2H2  C2H4  CH4  C2H6  C3H8   TCG     CO     CO2 r1(KEPCO) r2(KEPCO)  \\\n",
       "0   0.0   0.0   3.0  0.0   1.0   1.0   5.0   39.0   543.0        정상        정상   \n",
       "1  13.0   0.0   2.0  1.0   1.0   2.0  19.0  117.0  1600.0        정상        정상   \n",
       "\n",
       "           etc  \n",
       "0    정밀점검 1개월후  \n",
       "1   중부하 운전 변압기  "
      ]
     },
     "execution_count": 4,
     "metadata": {},
     "output_type": "execute_result"
    }
   ],
   "source": [
    "df.head(2)"
   ]
  },
  {
   "cell_type": "code",
   "execution_count": null,
   "metadata": {},
   "outputs": [],
   "source": []
  },
  {
   "cell_type": "markdown",
   "metadata": {},
   "source": [
    "### 4. 측정가스 정보 전처리  \n",
    "- Gas 컬럼 : H2, C2H2, C2H4, CH4, C2H6, C3H8, TCG, CO, CO2"
   ]
  },
  {
   "cell_type": "markdown",
   "metadata": {},
   "source": [
    "#### 4.1 TCG(Total Combustible Gases)"
   ]
  },
  {
   "cell_type": "markdown",
   "metadata": {},
   "source": [
    "- 현 데이터의 TCG는 H2, C2H2, C2H4, CH4. C2H6, C3H8 컬럼의 합임\n",
    "- 그런데 일반적인 DGA에서 C3H8(프로판)은 제외하고 TCG를 계산함\n",
    "- TCG1 : H2, C2H2, C2H4, CH4. C2H6\n",
    "- TCG2 : H2, C2H2, C2H4, CH4. C2H6, C3H8\n",
    "- TG : TCG2 + CO + CO2"
   ]
  },
  {
   "cell_type": "markdown",
   "metadata": {},
   "source": [
    "1) TCG1 컬럼 추가 : H2 + C2H2 + C2H4 + CH4 + C2H6"
   ]
  },
  {
   "cell_type": "code",
   "execution_count": 5,
   "metadata": {},
   "outputs": [],
   "source": [
    "df['TCG1'] = df[['H2', 'C2H2', 'C2H4', 'CH4', 'C2H6']].sum(axis = 1)"
   ]
  },
  {
   "cell_type": "code",
   "execution_count": null,
   "metadata": {},
   "outputs": [],
   "source": []
  },
  {
   "cell_type": "markdown",
   "metadata": {},
   "source": [
    "2) TCG2 컬럼 추가 : H2 + C2H2 + C2H4 + CH4 + C2H6 + C3H8"
   ]
  },
  {
   "cell_type": "code",
   "execution_count": 6,
   "metadata": {},
   "outputs": [],
   "source": [
    "df['TCG2'] = df[['H2', 'C2H2', 'C2H4', 'CH4', 'C2H6', 'C3H8']].sum(axis = 1)\n",
    "df = df.drop('TCG', axis = 1)"
   ]
  },
  {
   "cell_type": "code",
   "execution_count": null,
   "metadata": {},
   "outputs": [],
   "source": []
  },
  {
   "cell_type": "markdown",
   "metadata": {},
   "source": [
    "3) TG 컬럼 추가 : TCG2 + CO + CO2"
   ]
  },
  {
   "cell_type": "code",
   "execution_count": 7,
   "metadata": {},
   "outputs": [],
   "source": [
    "df['TG'] = df[['TCG2', 'CO', 'CO2']].sum(axis = 1)"
   ]
  },
  {
   "cell_type": "code",
   "execution_count": null,
   "metadata": {},
   "outputs": [],
   "source": []
  },
  {
   "cell_type": "markdown",
   "metadata": {},
   "source": [
    "#### 4.2 H2, C2H2, C2H4, CH4, C2H6, C3H8"
   ]
  },
  {
   "cell_type": "markdown",
   "metadata": {},
   "source": [
    "1) **%Gas :** %H2, %C2H2, %C2H4, %CH4, %C2H6, %CO 컬럼 추가  \n",
    "- Key Gas의 비율을 상태진단 인자로 사용\n",
    "- 여기서 Key Gas는 'H2', 'C2H2', 'C2H4', 'CH4', 'C2H6', 'CO' 임(IEEE C57.104 참고)\n",
    "- percent_gas 함수가 백분율(*100)을 리턴하도록 수정(5.12)\n",
    "- **향 후:** Null 값 처리 코드 추가"
   ]
  },
  {
   "cell_type": "code",
   "execution_count": 8,
   "metadata": {},
   "outputs": [
    {
     "name": "stdout",
     "output_type": "stream",
     "text": [
      "<class 'pandas.core.frame.DataFrame'>\n",
      "RangeIndex: 134666 entries, 0 to 134665\n",
      "Data columns (total 6 columns):\n",
      " #   Column  Non-Null Count   Dtype  \n",
      "---  ------  --------------   -----  \n",
      " 0   H2      134666 non-null  float64\n",
      " 1   C2H2    134666 non-null  float64\n",
      " 2   C2H4    134666 non-null  float64\n",
      " 3   CH4     134666 non-null  float64\n",
      " 4   C2H6    134666 non-null  float64\n",
      " 5   CO      134666 non-null  float64\n",
      "dtypes: float64(6)\n",
      "memory usage: 6.2 MB\n"
     ]
    }
   ],
   "source": [
    "# 현 데이터에는 null 값 없음\n",
    "df[['H2', 'C2H2', 'C2H4', 'CH4', 'C2H6', 'CO']].info()"
   ]
  },
  {
   "cell_type": "code",
   "execution_count": null,
   "metadata": {},
   "outputs": [],
   "source": []
  },
  {
   "cell_type": "code",
   "execution_count": 9,
   "metadata": {},
   "outputs": [],
   "source": [
    "def percent_gas(gas):\n",
    "    total = gas[['H2', 'C2H2', 'C2H4', 'CH4', 'C2H6', 'CO']].sum()\n",
    "    r1 = round(gas['H2']/total, 4)*100\n",
    "    r2 = round(gas['C2H2']/total,4)*100\n",
    "    r3 = round(gas['C2H4']/ total, 4)*100\n",
    "    r4 = round(gas['CH4']/total, 4)*100\n",
    "    r5 = round(gas['C2H6']/total, 4)*100\n",
    "    r6 = round(gas['CO']/total, 4)*100\n",
    "    return r1, r2, r3, r4, r5, r6"
   ]
  },
  {
   "cell_type": "code",
   "execution_count": 10,
   "metadata": {},
   "outputs": [],
   "source": [
    "df[['%H2', '%C2H2', '%C2H4', '%CH4', '%C2H6', '%CO']] = \\\n",
    "    df[['H2', 'C2H2', 'C2H4', 'CH4', 'C2H6', 'CO']].apply(percent_gas, axis = 1,result_type=\"expand\")"
   ]
  },
  {
   "cell_type": "code",
   "execution_count": null,
   "metadata": {},
   "outputs": [],
   "source": []
  },
  {
   "cell_type": "code",
   "execution_count": 11,
   "metadata": {},
   "outputs": [
    {
     "data": {
      "text/html": [
       "<div>\n",
       "<style scoped>\n",
       "    .dataframe tbody tr th:only-of-type {\n",
       "        vertical-align: middle;\n",
       "    }\n",
       "\n",
       "    .dataframe tbody tr th {\n",
       "        vertical-align: top;\n",
       "    }\n",
       "\n",
       "    .dataframe thead th {\n",
       "        text-align: right;\n",
       "    }\n",
       "</style>\n",
       "<table border=\"1\" class=\"dataframe\">\n",
       "  <thead>\n",
       "    <tr style=\"text-align: right;\">\n",
       "      <th></th>\n",
       "      <th>%H2</th>\n",
       "      <th>%C2H2</th>\n",
       "      <th>%C2H4</th>\n",
       "      <th>%CH4</th>\n",
       "      <th>%C2H6</th>\n",
       "      <th>%CO</th>\n",
       "    </tr>\n",
       "  </thead>\n",
       "  <tbody>\n",
       "    <tr>\n",
       "      <th>0</th>\n",
       "      <td>0.00</td>\n",
       "      <td>0.0</td>\n",
       "      <td>6.98</td>\n",
       "      <td>0.00</td>\n",
       "      <td>2.33</td>\n",
       "      <td>90.70</td>\n",
       "    </tr>\n",
       "    <tr>\n",
       "      <th>1</th>\n",
       "      <td>9.70</td>\n",
       "      <td>0.0</td>\n",
       "      <td>1.49</td>\n",
       "      <td>0.75</td>\n",
       "      <td>0.75</td>\n",
       "      <td>87.31</td>\n",
       "    </tr>\n",
       "    <tr>\n",
       "      <th>2</th>\n",
       "      <td>0.00</td>\n",
       "      <td>0.0</td>\n",
       "      <td>1.05</td>\n",
       "      <td>0.00</td>\n",
       "      <td>0.53</td>\n",
       "      <td>98.42</td>\n",
       "    </tr>\n",
       "    <tr>\n",
       "      <th>3</th>\n",
       "      <td>0.62</td>\n",
       "      <td>0.0</td>\n",
       "      <td>0.88</td>\n",
       "      <td>0.66</td>\n",
       "      <td>0.09</td>\n",
       "      <td>97.75</td>\n",
       "    </tr>\n",
       "    <tr>\n",
       "      <th>4</th>\n",
       "      <td>0.65</td>\n",
       "      <td>0.0</td>\n",
       "      <td>1.04</td>\n",
       "      <td>0.72</td>\n",
       "      <td>1.41</td>\n",
       "      <td>96.18</td>\n",
       "    </tr>\n",
       "  </tbody>\n",
       "</table>\n",
       "</div>"
      ],
      "text/plain": [
       "    %H2  %C2H2  %C2H4  %CH4  %C2H6    %CO\n",
       "0  0.00    0.0   6.98  0.00   2.33  90.70\n",
       "1  9.70    0.0   1.49  0.75   0.75  87.31\n",
       "2  0.00    0.0   1.05  0.00   0.53  98.42\n",
       "3  0.62    0.0   0.88  0.66   0.09  97.75\n",
       "4  0.65    0.0   1.04  0.72   1.41  96.18"
      ]
     },
     "execution_count": 11,
     "metadata": {},
     "output_type": "execute_result"
    }
   ],
   "source": [
    "df[['%H2', '%C2H2', '%C2H4', '%CH4', '%C2H6', '%CO']].head()"
   ]
  },
  {
   "cell_type": "code",
   "execution_count": 12,
   "metadata": {},
   "outputs": [
    {
     "data": {
      "text/html": [
       "<div>\n",
       "<style scoped>\n",
       "    .dataframe tbody tr th:only-of-type {\n",
       "        vertical-align: middle;\n",
       "    }\n",
       "\n",
       "    .dataframe tbody tr th {\n",
       "        vertical-align: top;\n",
       "    }\n",
       "\n",
       "    .dataframe thead th {\n",
       "        text-align: right;\n",
       "    }\n",
       "</style>\n",
       "<table border=\"1\" class=\"dataframe\">\n",
       "  <thead>\n",
       "    <tr style=\"text-align: right;\">\n",
       "      <th></th>\n",
       "      <th>%H2</th>\n",
       "      <th>%C2H2</th>\n",
       "      <th>%C2H4</th>\n",
       "      <th>%CH4</th>\n",
       "      <th>%C2H6</th>\n",
       "      <th>%CO</th>\n",
       "    </tr>\n",
       "  </thead>\n",
       "  <tbody>\n",
       "    <tr>\n",
       "      <th>count</th>\n",
       "      <td>133320.000000</td>\n",
       "      <td>133320.000000</td>\n",
       "      <td>133320.000000</td>\n",
       "      <td>133320.000000</td>\n",
       "      <td>133320.000000</td>\n",
       "      <td>133320.000000</td>\n",
       "    </tr>\n",
       "    <tr>\n",
       "      <th>mean</th>\n",
       "      <td>3.264559</td>\n",
       "      <td>0.188948</td>\n",
       "      <td>2.930164</td>\n",
       "      <td>6.725072</td>\n",
       "      <td>9.909266</td>\n",
       "      <td>76.981939</td>\n",
       "    </tr>\n",
       "    <tr>\n",
       "      <th>std</th>\n",
       "      <td>8.729481</td>\n",
       "      <td>2.151707</td>\n",
       "      <td>6.575501</td>\n",
       "      <td>9.037507</td>\n",
       "      <td>16.260588</td>\n",
       "      <td>26.257323</td>\n",
       "    </tr>\n",
       "    <tr>\n",
       "      <th>min</th>\n",
       "      <td>0.000000</td>\n",
       "      <td>0.000000</td>\n",
       "      <td>0.000000</td>\n",
       "      <td>0.000000</td>\n",
       "      <td>0.000000</td>\n",
       "      <td>0.000000</td>\n",
       "    </tr>\n",
       "    <tr>\n",
       "      <th>25%</th>\n",
       "      <td>0.000000</td>\n",
       "      <td>0.000000</td>\n",
       "      <td>0.000000</td>\n",
       "      <td>0.760000</td>\n",
       "      <td>0.000000</td>\n",
       "      <td>59.750000</td>\n",
       "    </tr>\n",
       "    <tr>\n",
       "      <th>50%</th>\n",
       "      <td>0.450000</td>\n",
       "      <td>0.000000</td>\n",
       "      <td>1.090000</td>\n",
       "      <td>2.500000</td>\n",
       "      <td>0.340000</td>\n",
       "      <td>90.320000</td>\n",
       "    </tr>\n",
       "    <tr>\n",
       "      <th>75%</th>\n",
       "      <td>2.500000</td>\n",
       "      <td>0.000000</td>\n",
       "      <td>2.940000</td>\n",
       "      <td>11.110000</td>\n",
       "      <td>14.560000</td>\n",
       "      <td>97.740000</td>\n",
       "    </tr>\n",
       "    <tr>\n",
       "      <th>max</th>\n",
       "      <td>100.000000</td>\n",
       "      <td>100.000000</td>\n",
       "      <td>100.000000</td>\n",
       "      <td>100.000000</td>\n",
       "      <td>100.000000</td>\n",
       "      <td>100.000000</td>\n",
       "    </tr>\n",
       "  </tbody>\n",
       "</table>\n",
       "</div>"
      ],
      "text/plain": [
       "                 %H2          %C2H2          %C2H4           %CH4  \\\n",
       "count  133320.000000  133320.000000  133320.000000  133320.000000   \n",
       "mean        3.264559       0.188948       2.930164       6.725072   \n",
       "std         8.729481       2.151707       6.575501       9.037507   \n",
       "min         0.000000       0.000000       0.000000       0.000000   \n",
       "25%         0.000000       0.000000       0.000000       0.760000   \n",
       "50%         0.450000       0.000000       1.090000       2.500000   \n",
       "75%         2.500000       0.000000       2.940000      11.110000   \n",
       "max       100.000000     100.000000     100.000000     100.000000   \n",
       "\n",
       "               %C2H6            %CO  \n",
       "count  133320.000000  133320.000000  \n",
       "mean        9.909266      76.981939  \n",
       "std        16.260588      26.257323  \n",
       "min         0.000000       0.000000  \n",
       "25%         0.000000      59.750000  \n",
       "50%         0.340000      90.320000  \n",
       "75%        14.560000      97.740000  \n",
       "max       100.000000     100.000000  "
      ]
     },
     "execution_count": 12,
     "metadata": {},
     "output_type": "execute_result"
    }
   ],
   "source": [
    "df[['%H2', '%C2H2', '%C2H4', '%CH4', '%C2H6', '%CO']].describe()"
   ]
  },
  {
   "cell_type": "code",
   "execution_count": 13,
   "metadata": {},
   "outputs": [
    {
     "data": {
      "text/plain": [
       "<matplotlib.axes._subplots.AxesSubplot at 0x2c10d8b8208>"
      ]
     },
     "execution_count": 13,
     "metadata": {},
     "output_type": "execute_result"
    },
    {
     "data": {
      "image/png": "[encoded data removed]",
      "text/plain": [
       "<Figure size 864x432 with 1 Axes>"
      ]
     },
     "metadata": {
      "needs_background": "light"
     },
     "output_type": "display_data"
    }
   ],
   "source": [
    "df[['%H2', '%C2H2', '%C2H4', '%CH4', '%C2H6', '%CO']].boxplot(figsize = (12, 6))"
   ]
  },
  {
   "cell_type": "code",
   "execution_count": null,
   "metadata": {},
   "outputs": [],
   "source": []
  },
  {
   "cell_type": "markdown",
   "metadata": {},
   "source": [
    "2) **Gas Ratio :** CH4/H2, C2H2/C2H4, C2H2/CH4, C2H6/C2H2, C2H4/C2H6 컬럼 추가\n",
    "- CH4/H2, C2H2/C2H4, C2H2/CH4, C2H6/C2H2, C2H4/C2H6 : IEEE에서 사용하는 기준\n",
    "- nan, inf 발생문제 해결\n",
    "    * 분모가 0이 되는 문제 해결\n",
    "    - **가스량이 0이거나, 작은 값인경우 S-values(IEC 60599 17page, IEC 60567)로 대체**  \n",
    "    - H2: 5ppm, CH계열: 1ppm, CO: 25ppm, CO2: 25ppm"
   ]
  },
  {
   "cell_type": "code",
   "execution_count": 14,
   "metadata": {},
   "outputs": [],
   "source": [
    "def ratio_gas(gas):\n",
    "    H2_lim = 5.0; CH_lim = 1.0;\n",
    "    cnt = 5 # 신뢰도, 높을수록 신뢰도가 높음...\n",
    "    \n",
    "    if gas['H2']<H2_lim:\n",
    "        H2 = H2_lim\n",
    "        cnt = cnt-1\n",
    "    else :\n",
    "        H2 = gas['H2']\n",
    "        \n",
    "    if gas['CH4']<=CH_lim:\n",
    "        CH4 = CH_lim\n",
    "        cnt = cnt-1\n",
    "    else :\n",
    "        CH4 = gas['CH4']\n",
    "        \n",
    "    if gas['C2H2']<=CH_lim:\n",
    "        C2H2 = CH_lim\n",
    "        cnt = cnt-1\n",
    "    else :\n",
    "        C2H2 = gas['C2H2']\n",
    "        \n",
    "    if gas['C2H4']<=CH_lim:\n",
    "        C2H4 = CH_lim\n",
    "        cnt = cnt-1\n",
    "    else :\n",
    "        C2H4 = gas['C2H4']\n",
    "        \n",
    "    if gas['C2H6']<=CH_lim:\n",
    "        C2H6 = CH_lim\n",
    "        cnt = cnt-1\n",
    "    else :\n",
    "        C2H6 = gas['C2H6']\n",
    "        \n",
    "    r1 = round(CH4/H2, 5)\n",
    "    r2 = round(C2H2/C2H4, 5)\n",
    "    r3 = round(C2H2/CH4, 5)\n",
    "    r4 = round(C2H6/C2H2, 5)\n",
    "    r5 = round(C2H4/C2H6, 5)\n",
    "    return r1, r2, r3, r4, r5, int(cnt)"
   ]
  },
  {
   "cell_type": "code",
   "execution_count": 15,
   "metadata": {},
   "outputs": [],
   "source": [
    "df[['CH4/H2', 'C2H2/C2H4', 'C2H2/CH4', 'C2H6/C2H2', 'C2H4/C2H6', \n",
    "    'gas_ratio_p']] = \\\n",
    "    df[['H2', 'CH4', 'C2H2', 'C2H4','C2H6']].apply(ratio_gas, \n",
    "                                            axis = 1,result_type=\"expand\")\n",
    "df['gas_ratio_p'] = df['gas_ratio_p'].astype('int16')"
   ]
  },
  {
   "cell_type": "code",
   "execution_count": null,
   "metadata": {},
   "outputs": [],
   "source": []
  },
  {
   "cell_type": "code",
   "execution_count": 16,
   "metadata": {},
   "outputs": [
    {
     "data": {
      "text/html": [
       "<div>\n",
       "<style scoped>\n",
       "    .dataframe tbody tr th:only-of-type {\n",
       "        vertical-align: middle;\n",
       "    }\n",
       "\n",
       "    .dataframe tbody tr th {\n",
       "        vertical-align: top;\n",
       "    }\n",
       "\n",
       "    .dataframe thead th {\n",
       "        text-align: right;\n",
       "    }\n",
       "</style>\n",
       "<table border=\"1\" class=\"dataframe\">\n",
       "  <thead>\n",
       "    <tr style=\"text-align: right;\">\n",
       "      <th></th>\n",
       "      <th>CH4/H2</th>\n",
       "      <th>C2H2/C2H4</th>\n",
       "      <th>C2H2/CH4</th>\n",
       "      <th>C2H6/C2H2</th>\n",
       "      <th>C2H4/C2H6</th>\n",
       "      <th>gas_ratio_p</th>\n",
       "    </tr>\n",
       "  </thead>\n",
       "  <tbody>\n",
       "    <tr>\n",
       "      <th>count</th>\n",
       "      <td>134666.000000</td>\n",
       "      <td>134666.000000</td>\n",
       "      <td>134666.000000</td>\n",
       "      <td>134666.000000</td>\n",
       "      <td>134666.000000</td>\n",
       "      <td>134666.000000</td>\n",
       "    </tr>\n",
       "    <tr>\n",
       "      <th>mean</th>\n",
       "      <td>3.943505</td>\n",
       "      <td>0.579124</td>\n",
       "      <td>0.368888</td>\n",
       "      <td>48.161007</td>\n",
       "      <td>2.187696</td>\n",
       "      <td>2.321818</td>\n",
       "    </tr>\n",
       "    <tr>\n",
       "      <th>std</th>\n",
       "      <td>8.967008</td>\n",
       "      <td>12.403940</td>\n",
       "      <td>1.922336</td>\n",
       "      <td>107.891355</td>\n",
       "      <td>6.348153</td>\n",
       "      <td>1.388794</td>\n",
       "    </tr>\n",
       "    <tr>\n",
       "      <th>min</th>\n",
       "      <td>0.000030</td>\n",
       "      <td>0.000260</td>\n",
       "      <td>0.000130</td>\n",
       "      <td>0.001640</td>\n",
       "      <td>0.000270</td>\n",
       "      <td>0.000000</td>\n",
       "    </tr>\n",
       "    <tr>\n",
       "      <th>25%</th>\n",
       "      <td>0.240823</td>\n",
       "      <td>0.090910</td>\n",
       "      <td>0.035710</td>\n",
       "      <td>1.000000</td>\n",
       "      <td>0.209790</td>\n",
       "      <td>1.000000</td>\n",
       "    </tr>\n",
       "    <tr>\n",
       "      <th>50%</th>\n",
       "      <td>1.000000</td>\n",
       "      <td>0.333330</td>\n",
       "      <td>0.142860</td>\n",
       "      <td>1.200000</td>\n",
       "      <td>1.000000</td>\n",
       "      <td>3.000000</td>\n",
       "    </tr>\n",
       "    <tr>\n",
       "      <th>75%</th>\n",
       "      <td>3.600000</td>\n",
       "      <td>1.000000</td>\n",
       "      <td>0.500000</td>\n",
       "      <td>36.000000</td>\n",
       "      <td>1.516045</td>\n",
       "      <td>3.000000</td>\n",
       "    </tr>\n",
       "    <tr>\n",
       "      <th>max</th>\n",
       "      <td>1506.200000</td>\n",
       "      <td>4214.000000</td>\n",
       "      <td>385.000000</td>\n",
       "      <td>3744.000000</td>\n",
       "      <td>962.000000</td>\n",
       "      <td>5.000000</td>\n",
       "    </tr>\n",
       "  </tbody>\n",
       "</table>\n",
       "</div>"
      ],
      "text/plain": [
       "              CH4/H2      C2H2/C2H4       C2H2/CH4      C2H6/C2H2  \\\n",
       "count  134666.000000  134666.000000  134666.000000  134666.000000   \n",
       "mean        3.943505       0.579124       0.368888      48.161007   \n",
       "std         8.967008      12.403940       1.922336     107.891355   \n",
       "min         0.000030       0.000260       0.000130       0.001640   \n",
       "25%         0.240823       0.090910       0.035710       1.000000   \n",
       "50%         1.000000       0.333330       0.142860       1.200000   \n",
       "75%         3.600000       1.000000       0.500000      36.000000   \n",
       "max      1506.200000    4214.000000     385.000000    3744.000000   \n",
       "\n",
       "           C2H4/C2H6    gas_ratio_p  \n",
       "count  134666.000000  134666.000000  \n",
       "mean        2.187696       2.321818  \n",
       "std         6.348153       1.388794  \n",
       "min         0.000270       0.000000  \n",
       "25%         0.209790       1.000000  \n",
       "50%         1.000000       3.000000  \n",
       "75%         1.516045       3.000000  \n",
       "max       962.000000       5.000000  "
      ]
     },
     "execution_count": 16,
     "metadata": {},
     "output_type": "execute_result"
    }
   ],
   "source": [
    "df[['CH4/H2', 'C2H2/C2H4', 'C2H2/CH4', 'C2H6/C2H2', 'C2H4/C2H6', \n",
    "    'gas_ratio_p']].describe()"
   ]
  },
  {
   "cell_type": "code",
   "execution_count": 17,
   "metadata": {},
   "outputs": [
    {
     "data": {
      "text/plain": [
       "<matplotlib.axes._subplots.AxesSubplot at 0x2c11e34a248>"
      ]
     },
     "execution_count": 17,
     "metadata": {},
     "output_type": "execute_result"
    },
    {
     "data": {
      "image/png": "[encoded data removed]",
      "text/plain": [
       "<Figure size 864x432 with 1 Axes>"
      ]
     },
     "metadata": {
      "needs_background": "light"
     },
     "output_type": "display_data"
    }
   ],
   "source": [
    "df[['CH4/H2', 'C2H2/C2H4', 'C2H2/CH4', 'C2H6/C2H2', 'C2H4/C2H6', \n",
    "    'gas_ratio_p']].boxplot(figsize = (12, 6))"
   ]
  },
  {
   "cell_type": "code",
   "execution_count": 18,
   "metadata": {},
   "outputs": [
    {
     "data": {
      "text/plain": [
       "(2517, 46)"
      ]
     },
     "execution_count": 18,
     "metadata": {},
     "output_type": "execute_result"
    }
   ],
   "source": [
    "df[df['gas_ratio_p']==5].shape\n",
    "# 5가지 가스가 모두 정상적으로 계산된 경우는 매우 적음: 2669개(활용 단계 참고)"
   ]
  },
  {
   "cell_type": "markdown",
   "metadata": {},
   "source": [
    "3) **Gas Rate:** dH2, dC2H2, dC2H4, dC2H6, dC3H8, dCO, dCO2, dTCG1, dTCG2, dTG 컬럼 추가"
   ]
  },
  {
   "cell_type": "code",
   "execution_count": 19,
   "metadata": {},
   "outputs": [],
   "source": [
    "names = df['name'].unique()"
   ]
  },
  {
   "cell_type": "code",
   "execution_count": 20,
   "metadata": {},
   "outputs": [
    {
     "data": {
      "application/vnd.jupyter.widget-view+json": {
       "model_id": "f382b9949dbd4f16aa45f0d82e408895",
       "version_major": 2,
       "version_minor": 0
      },
      "text/plain": [
       "HBox(children=(FloatProgress(value=0.0, max=8222.0), HTML(value='')))"
      ]
     },
     "metadata": {},
     "output_type": "display_data"
    },
    {
     "name": "stdout",
     "output_type": "stream",
     "text": [
      "\n"
     ]
    }
   ],
   "source": [
    "tmp = []\n",
    "for name in tqdm(names):\n",
    "    df_tmp = df[df['name']==name].sort_values(by= 'sample_date')\n",
    "    for i in range(df_tmp.shape[0]):\n",
    "        row = df_tmp.iloc[i].to_dict()\n",
    "        if i ==0:\n",
    "            row['dH2'] = 0.; row['dC2H2'] = 0.; row['dC2H4'] = 0.; \n",
    "            row['dC2H6'] = 0.; row['dC3H8']= 0.; \n",
    "            row['dCO'] = 0.; row['dCO2'] = 0.;\n",
    "            row['dTCG1'] = 0.; row['dTCG2'] = 0.; row['dTG'] = 0.;\n",
    "            row['sample_cnt'] = 1\n",
    "\n",
    "        else:\n",
    "            row['dH2'] = (row['H2'] - row_old['H2'])/\\\n",
    "                      abs(row['age(month)'] - row_old['age(month)']+1)\n",
    "                \n",
    "            row['dC2H2'] = (row['C2H2'] - row_old['C2H2'])/\\\n",
    "                      abs(row['age(month)'] - row_old['age(month)']+1)\n",
    "\n",
    "            row['dC2H4'] = (row['C2H4'] - row_old['C2H4'])/\\\n",
    "                      abs(row['age(month)'] - row_old['age(month)']+1)\n",
    "                \n",
    "            row['dC2H6'] = (row['C2H6'] - row_old['C2H6'])/\\\n",
    "                      abs(row['age(month)'] - row_old['age(month)']+1)\n",
    "                \n",
    "            row['dC3H8'] = (row['C3H8'] - row_old['C3H8'])/\\\n",
    "                      abs(row['age(month)'] - row_old['age(month)']+1)\n",
    "                \n",
    "            row['dCO'] = (row['CO'] - row_old['CO'])/\\\n",
    "                      abs(row['age(month)'] - row_old['age(month)']+1)\n",
    "                \n",
    "            row['dCO2'] = (row['CO2'] - row_old['CO2'])/\\\n",
    "                      abs(row['age(month)'] - row_old['age(month)']+1)\n",
    "                \n",
    "            row['dTCG1'] = (row['TCG1'] - row_old['TCG1'])/\\\n",
    "                      abs(row['age(month)'] - row_old['age(month)']+1)\n",
    "                \n",
    "            row['dTCG2'] = (row['TCG2'] - row_old['TCG2'])/\\\n",
    "                      abs(row['age(month)'] - row_old['age(month)']+1)\n",
    "                \n",
    "            row['dTG'] = (row['TG'] - row_old['TG'])/\\\n",
    "                      abs(row['age(month)'] - row_old['age(month)']+1)\n",
    "                \n",
    "            row['sample_cnt'] = i+1\n",
    "        \n",
    "        tmp.append(row)\n",
    "        row_old = row.copy()"
   ]
  },
  {
   "cell_type": "code",
   "execution_count": 21,
   "metadata": {},
   "outputs": [],
   "source": [
    "df = pd.DataFrame(tmp)"
   ]
  },
  {
   "cell_type": "code",
   "execution_count": null,
   "metadata": {},
   "outputs": [],
   "source": []
  },
  {
   "cell_type": "code",
   "execution_count": 22,
   "metadata": {},
   "outputs": [
    {
     "data": {
      "text/plain": [
       "<matplotlib.axes._subplots.AxesSubplot at 0x2c11b5a9e08>"
      ]
     },
     "execution_count": 22,
     "metadata": {},
     "output_type": "execute_result"
    },
    {
     "data": {
      "image/png": "[encoded data removed]",
      "text/plain": [
       "<Figure size 432x288 with 1 Axes>"
      ]
     },
     "metadata": {
      "needs_background": "light"
     },
     "output_type": "display_data"
    }
   ],
   "source": [
    "df[['dH2', 'dC2H2', 'dC2H4', 'dC2H6', 'dC3H8']].boxplot()"
   ]
  },
  {
   "cell_type": "code",
   "execution_count": 23,
   "metadata": {
    "scrolled": true
   },
   "outputs": [
    {
     "data": {
      "image/png": "[encoded data removed]",
      "text/plain": [
       "<Figure size 1080x2520 with 1 Axes>"
      ]
     },
     "metadata": {
      "needs_background": "light"
     },
     "output_type": "display_data"
    }
   ],
   "source": [
    "fig, ax = plt.subplots(figsize = (figure_hrz , 35))\n",
    "df['sample_cnt'].value_counts(dropna = False).plot(kind = 'barh', rot = 45, fontsize = font_n)\n",
    "for p in ax.patches:\n",
    "    ax.text(p.get_width()+0.2, p.get_y()+0.2, str(p.get_width()), fontsize=font_d, color='k')\n",
    "plt.show()\n",
    "ax.set_title('Sample counts', fontsize = font_n)\n",
    "ax.set_xlabel('Sample counts', fontsize = font_n)\n",
    "ax.set_ylabel('counts', fontsize = font_n)\n",
    "plt.show()"
   ]
  },
  {
   "cell_type": "code",
   "execution_count": null,
   "metadata": {},
   "outputs": [],
   "source": []
  },
  {
   "cell_type": "markdown",
   "metadata": {},
   "source": [
    "#### 완료 및 중간정리"
   ]
  },
  {
   "cell_type": "code",
   "execution_count": 24,
   "metadata": {},
   "outputs": [
    {
     "data": {
      "text/plain": [
       "Index(['office1', 'office2', 'name', 'S/S', 'eq_type', 'eq_num', 'eq_phase',\n",
       "       'maker', 'volt', 'volt_by_name', 'operation', 'anal_type', 'mfg_year',\n",
       "       'sample_date', 'sample_year', 'sample_month', 'sample_season',\n",
       "       'age(year)', 'age(month)', 'long_term', 'H2', 'C2H2', 'C2H4', 'CH4',\n",
       "       'C2H6', 'C3H8', 'CO', 'CO2', 'r1(KEPCO)', 'r2(KEPCO)', 'etc', 'TCG1',\n",
       "       'TCG2', 'TG', '%H2', '%C2H2', '%C2H4', '%CH4', '%C2H6', '%CO', 'CH4/H2',\n",
       "       'C2H2/C2H4', 'C2H2/CH4', 'C2H6/C2H2', 'C2H4/C2H6', 'gas_ratio_p', 'dH2',\n",
       "       'dC2H2', 'dC2H4', 'dC2H6', 'dC3H8', 'dCO', 'dCO2', 'dTCG1', 'dTCG2',\n",
       "       'dTG', 'sample_cnt'],\n",
       "      dtype='object')"
      ]
     },
     "execution_count": 24,
     "metadata": {},
     "output_type": "execute_result"
    }
   ],
   "source": [
    "df.columns"
   ]
  },
  {
   "cell_type": "code",
   "execution_count": 25,
   "metadata": {},
   "outputs": [],
   "source": [
    "tr_cols = ['office1', 'office2', 'name', 'S/S', 'eq_type', 'eq_num', 'eq_phase',\n",
    "       'maker', 'volt', 'volt_by_name','operation', 'anal_type'] #11\n",
    "date_cols = ['mfg_year', 'sample_date',  'sample_year','sample_month', \n",
    "            'sample_season', 'age(year)', 'age(month)','long_term','sample_cnt'] #\n",
    "gas_cols = [ 'H2', 'C2H2', 'C2H4', 'CH4', 'C2H6', 'C3H8','CO', 'CO2',\n",
    "           'TCG1', 'TCG2', 'TG', \n",
    "            '%H2', '%C2H2', '%C2H4', '%CH4', '%C2H6', '%CO', \n",
    "            'CH4/H2', 'C2H2/C2H4', 'C2H2/CH4', 'C2H6/C2H2', 'C2H4/C2H6', \n",
    "            'gas_ratio_p', \n",
    "            'dH2','dC2H2', 'dC2H4', 'dC2H6', 'dC3H8', 'dCO', 'dCO2', \n",
    "            'dTCG1', 'dTCG2','dTG']\n",
    "result_cols = ['r1(KEPCO)', 'r2(KEPCO)']\n",
    "etc = ['etc']"
   ]
  },
  {
   "cell_type": "code",
   "execution_count": 26,
   "metadata": {},
   "outputs": [
    {
     "data": {
      "text/plain": [
       "True"
      ]
     },
     "execution_count": 26,
     "metadata": {},
     "output_type": "execute_result"
    }
   ],
   "source": [
    "set(df.columns) == set(tr_cols + date_cols + gas_cols + result_cols + etc)"
   ]
  },
  {
   "cell_type": "code",
   "execution_count": null,
   "metadata": {},
   "outputs": [],
   "source": []
  },
  {
   "cell_type": "code",
   "execution_count": 27,
   "metadata": {},
   "outputs": [],
   "source": [
    "df = df[tr_cols + date_cols + gas_cols + result_cols + etc]"
   ]
  },
  {
   "cell_type": "code",
   "execution_count": 28,
   "metadata": {},
   "outputs": [
    {
     "data": {
      "text/html": [
       "<div>\n",
       "<style scoped>\n",
       "    .dataframe tbody tr th:only-of-type {\n",
       "        vertical-align: middle;\n",
       "    }\n",
       "\n",
       "    .dataframe tbody tr th {\n",
       "        vertical-align: top;\n",
       "    }\n",
       "\n",
       "    .dataframe thead th {\n",
       "        text-align: right;\n",
       "    }\n",
       "</style>\n",
       "<table border=\"1\" class=\"dataframe\">\n",
       "  <thead>\n",
       "    <tr style=\"text-align: right;\">\n",
       "      <th></th>\n",
       "      <th>office1</th>\n",
       "      <th>office2</th>\n",
       "      <th>name</th>\n",
       "      <th>S/S</th>\n",
       "      <th>eq_type</th>\n",
       "      <th>eq_num</th>\n",
       "      <th>eq_phase</th>\n",
       "      <th>maker</th>\n",
       "      <th>volt</th>\n",
       "      <th>volt_by_name</th>\n",
       "      <th>operation</th>\n",
       "      <th>anal_type</th>\n",
       "      <th>mfg_year</th>\n",
       "      <th>sample_date</th>\n",
       "      <th>sample_year</th>\n",
       "      <th>sample_month</th>\n",
       "      <th>sample_season</th>\n",
       "      <th>age(year)</th>\n",
       "      <th>age(month)</th>\n",
       "      <th>long_term</th>\n",
       "      <th>sample_cnt</th>\n",
       "      <th>H2</th>\n",
       "      <th>C2H2</th>\n",
       "      <th>C2H4</th>\n",
       "      <th>CH4</th>\n",
       "      <th>C2H6</th>\n",
       "      <th>C3H8</th>\n",
       "      <th>CO</th>\n",
       "      <th>CO2</th>\n",
       "      <th>TCG1</th>\n",
       "      <th>TCG2</th>\n",
       "      <th>TG</th>\n",
       "      <th>%H2</th>\n",
       "      <th>%C2H2</th>\n",
       "      <th>%C2H4</th>\n",
       "      <th>%CH4</th>\n",
       "      <th>%C2H6</th>\n",
       "      <th>%CO</th>\n",
       "      <th>CH4/H2</th>\n",
       "      <th>C2H2/C2H4</th>\n",
       "      <th>C2H2/CH4</th>\n",
       "      <th>C2H6/C2H2</th>\n",
       "      <th>C2H4/C2H6</th>\n",
       "      <th>gas_ratio_p</th>\n",
       "      <th>dH2</th>\n",
       "      <th>dC2H2</th>\n",
       "      <th>dC2H4</th>\n",
       "      <th>dC2H6</th>\n",
       "      <th>dC3H8</th>\n",
       "      <th>dCO</th>\n",
       "      <th>dCO2</th>\n",
       "      <th>dTCG1</th>\n",
       "      <th>dTCG2</th>\n",
       "      <th>dTG</th>\n",
       "      <th>r1(KEPCO)</th>\n",
       "      <th>r2(KEPCO)</th>\n",
       "      <th>etc</th>\n",
       "    </tr>\n",
       "  </thead>\n",
       "  <tbody>\n",
       "    <tr>\n",
       "      <th>0</th>\n",
       "      <td>제주본부</td>\n",
       "      <td>제주전력지사</td>\n",
       "      <td>신서귀S/S  154kV  #1   M.Tr A</td>\n",
       "      <td>신서귀S/S</td>\n",
       "      <td>M.Tr</td>\n",
       "      <td>#1</td>\n",
       "      <td>A</td>\n",
       "      <td>효성</td>\n",
       "      <td>154</td>\n",
       "      <td>154</td>\n",
       "      <td>신설</td>\n",
       "      <td>NaN</td>\n",
       "      <td>1998</td>\n",
       "      <td>1998-06-20</td>\n",
       "      <td>1998</td>\n",
       "      <td>6</td>\n",
       "      <td>1</td>\n",
       "      <td>0</td>\n",
       "      <td>5</td>\n",
       "      <td>0</td>\n",
       "      <td>1</td>\n",
       "      <td>0.0</td>\n",
       "      <td>0.0</td>\n",
       "      <td>0.0</td>\n",
       "      <td>7.0</td>\n",
       "      <td>0.0</td>\n",
       "      <td>0.0</td>\n",
       "      <td>23.0</td>\n",
       "      <td>84.0</td>\n",
       "      <td>7.0</td>\n",
       "      <td>7.0</td>\n",
       "      <td>114.0</td>\n",
       "      <td>0.0</td>\n",
       "      <td>0.0</td>\n",
       "      <td>0.0</td>\n",
       "      <td>23.33</td>\n",
       "      <td>0.0</td>\n",
       "      <td>76.67</td>\n",
       "      <td>1.4</td>\n",
       "      <td>1.0</td>\n",
       "      <td>0.14286</td>\n",
       "      <td>1.0</td>\n",
       "      <td>1.0</td>\n",
       "      <td>1</td>\n",
       "      <td>0.000000</td>\n",
       "      <td>0.0</td>\n",
       "      <td>0.0</td>\n",
       "      <td>0.0</td>\n",
       "      <td>0.0</td>\n",
       "      <td>0.000000</td>\n",
       "      <td>0.000000</td>\n",
       "      <td>0.000000</td>\n",
       "      <td>0.000000</td>\n",
       "      <td>0.000000</td>\n",
       "      <td>정상</td>\n",
       "      <td>정상</td>\n",
       "      <td>NaN</td>\n",
       "    </tr>\n",
       "    <tr>\n",
       "      <th>1</th>\n",
       "      <td>제주본부</td>\n",
       "      <td>제주전력지사</td>\n",
       "      <td>신서귀S/S  154kV  #1   M.Tr A</td>\n",
       "      <td>신서귀S/S</td>\n",
       "      <td>M.Tr</td>\n",
       "      <td>#1</td>\n",
       "      <td>A</td>\n",
       "      <td>효성</td>\n",
       "      <td>154</td>\n",
       "      <td>154</td>\n",
       "      <td>신설</td>\n",
       "      <td>NaN</td>\n",
       "      <td>1998</td>\n",
       "      <td>1998-11-26</td>\n",
       "      <td>1998</td>\n",
       "      <td>11</td>\n",
       "      <td>2</td>\n",
       "      <td>0</td>\n",
       "      <td>10</td>\n",
       "      <td>0</td>\n",
       "      <td>2</td>\n",
       "      <td>10.0</td>\n",
       "      <td>0.0</td>\n",
       "      <td>0.0</td>\n",
       "      <td>1.0</td>\n",
       "      <td>0.0</td>\n",
       "      <td>0.0</td>\n",
       "      <td>87.0</td>\n",
       "      <td>1738.0</td>\n",
       "      <td>11.0</td>\n",
       "      <td>11.0</td>\n",
       "      <td>1836.0</td>\n",
       "      <td>10.2</td>\n",
       "      <td>0.0</td>\n",
       "      <td>0.0</td>\n",
       "      <td>1.02</td>\n",
       "      <td>0.0</td>\n",
       "      <td>88.78</td>\n",
       "      <td>0.1</td>\n",
       "      <td>1.0</td>\n",
       "      <td>1.00000</td>\n",
       "      <td>1.0</td>\n",
       "      <td>1.0</td>\n",
       "      <td>1</td>\n",
       "      <td>1.666667</td>\n",
       "      <td>0.0</td>\n",
       "      <td>0.0</td>\n",
       "      <td>0.0</td>\n",
       "      <td>0.0</td>\n",
       "      <td>10.666667</td>\n",
       "      <td>275.666667</td>\n",
       "      <td>0.666667</td>\n",
       "      <td>0.666667</td>\n",
       "      <td>287.000000</td>\n",
       "      <td>정상</td>\n",
       "      <td>정상</td>\n",
       "      <td>NaN</td>\n",
       "    </tr>\n",
       "    <tr>\n",
       "      <th>2</th>\n",
       "      <td>제주본부</td>\n",
       "      <td>제주전력지사</td>\n",
       "      <td>신서귀S/S  154kV  #1   M.Tr A</td>\n",
       "      <td>신서귀S/S</td>\n",
       "      <td>M.Tr</td>\n",
       "      <td>#1</td>\n",
       "      <td>A</td>\n",
       "      <td>효성</td>\n",
       "      <td>154</td>\n",
       "      <td>154</td>\n",
       "      <td>신설</td>\n",
       "      <td>NaN</td>\n",
       "      <td>1998</td>\n",
       "      <td>1999-12-07</td>\n",
       "      <td>1999</td>\n",
       "      <td>12</td>\n",
       "      <td>3</td>\n",
       "      <td>1</td>\n",
       "      <td>23</td>\n",
       "      <td>0</td>\n",
       "      <td>3</td>\n",
       "      <td>0.0</td>\n",
       "      <td>0.0</td>\n",
       "      <td>0.0</td>\n",
       "      <td>3.0</td>\n",
       "      <td>0.0</td>\n",
       "      <td>0.0</td>\n",
       "      <td>108.0</td>\n",
       "      <td>1110.0</td>\n",
       "      <td>3.0</td>\n",
       "      <td>3.0</td>\n",
       "      <td>1221.0</td>\n",
       "      <td>0.0</td>\n",
       "      <td>0.0</td>\n",
       "      <td>0.0</td>\n",
       "      <td>2.70</td>\n",
       "      <td>0.0</td>\n",
       "      <td>97.30</td>\n",
       "      <td>0.6</td>\n",
       "      <td>1.0</td>\n",
       "      <td>0.33333</td>\n",
       "      <td>1.0</td>\n",
       "      <td>1.0</td>\n",
       "      <td>1</td>\n",
       "      <td>-0.714286</td>\n",
       "      <td>0.0</td>\n",
       "      <td>0.0</td>\n",
       "      <td>0.0</td>\n",
       "      <td>0.0</td>\n",
       "      <td>1.500000</td>\n",
       "      <td>-44.857143</td>\n",
       "      <td>-0.571429</td>\n",
       "      <td>-0.571429</td>\n",
       "      <td>-43.928571</td>\n",
       "      <td>정상</td>\n",
       "      <td>정상</td>\n",
       "      <td>NaN</td>\n",
       "    </tr>\n",
       "    <tr>\n",
       "      <th>3</th>\n",
       "      <td>제주본부</td>\n",
       "      <td>제주전력지사</td>\n",
       "      <td>신서귀S/S  154kV  #1   M.Tr A</td>\n",
       "      <td>신서귀S/S</td>\n",
       "      <td>M.Tr</td>\n",
       "      <td>#1</td>\n",
       "      <td>A</td>\n",
       "      <td>효성</td>\n",
       "      <td>154</td>\n",
       "      <td>154</td>\n",
       "      <td>신설</td>\n",
       "      <td>NaN</td>\n",
       "      <td>1998</td>\n",
       "      <td>2000-11-29</td>\n",
       "      <td>2000</td>\n",
       "      <td>11</td>\n",
       "      <td>2</td>\n",
       "      <td>2</td>\n",
       "      <td>34</td>\n",
       "      <td>0</td>\n",
       "      <td>4</td>\n",
       "      <td>0.0</td>\n",
       "      <td>0.0</td>\n",
       "      <td>0.0</td>\n",
       "      <td>2.0</td>\n",
       "      <td>0.0</td>\n",
       "      <td>0.0</td>\n",
       "      <td>203.0</td>\n",
       "      <td>679.0</td>\n",
       "      <td>2.0</td>\n",
       "      <td>2.0</td>\n",
       "      <td>884.0</td>\n",
       "      <td>0.0</td>\n",
       "      <td>0.0</td>\n",
       "      <td>0.0</td>\n",
       "      <td>0.98</td>\n",
       "      <td>0.0</td>\n",
       "      <td>99.02</td>\n",
       "      <td>0.4</td>\n",
       "      <td>1.0</td>\n",
       "      <td>0.50000</td>\n",
       "      <td>1.0</td>\n",
       "      <td>1.0</td>\n",
       "      <td>1</td>\n",
       "      <td>0.000000</td>\n",
       "      <td>0.0</td>\n",
       "      <td>0.0</td>\n",
       "      <td>0.0</td>\n",
       "      <td>0.0</td>\n",
       "      <td>7.916667</td>\n",
       "      <td>-35.916667</td>\n",
       "      <td>-0.083333</td>\n",
       "      <td>-0.083333</td>\n",
       "      <td>-28.083333</td>\n",
       "      <td>정상</td>\n",
       "      <td>정상</td>\n",
       "      <td>NaN</td>\n",
       "    </tr>\n",
       "    <tr>\n",
       "      <th>4</th>\n",
       "      <td>제주본부</td>\n",
       "      <td>제주전력지사</td>\n",
       "      <td>신서귀S/S  154kV  #1   M.Tr A</td>\n",
       "      <td>신서귀S/S</td>\n",
       "      <td>M.Tr</td>\n",
       "      <td>#1</td>\n",
       "      <td>A</td>\n",
       "      <td>효성</td>\n",
       "      <td>154</td>\n",
       "      <td>154</td>\n",
       "      <td>운전중</td>\n",
       "      <td>NaN</td>\n",
       "      <td>1998</td>\n",
       "      <td>2001-12-10</td>\n",
       "      <td>2001</td>\n",
       "      <td>12</td>\n",
       "      <td>3</td>\n",
       "      <td>3</td>\n",
       "      <td>47</td>\n",
       "      <td>1</td>\n",
       "      <td>5</td>\n",
       "      <td>0.0</td>\n",
       "      <td>0.0</td>\n",
       "      <td>0.0</td>\n",
       "      <td>0.0</td>\n",
       "      <td>0.0</td>\n",
       "      <td>0.0</td>\n",
       "      <td>222.0</td>\n",
       "      <td>537.0</td>\n",
       "      <td>0.0</td>\n",
       "      <td>0.0</td>\n",
       "      <td>759.0</td>\n",
       "      <td>0.0</td>\n",
       "      <td>0.0</td>\n",
       "      <td>0.0</td>\n",
       "      <td>0.00</td>\n",
       "      <td>0.0</td>\n",
       "      <td>100.00</td>\n",
       "      <td>0.2</td>\n",
       "      <td>1.0</td>\n",
       "      <td>1.00000</td>\n",
       "      <td>1.0</td>\n",
       "      <td>1.0</td>\n",
       "      <td>0</td>\n",
       "      <td>0.000000</td>\n",
       "      <td>0.0</td>\n",
       "      <td>0.0</td>\n",
       "      <td>0.0</td>\n",
       "      <td>0.0</td>\n",
       "      <td>1.357143</td>\n",
       "      <td>-10.142857</td>\n",
       "      <td>-0.142857</td>\n",
       "      <td>-0.142857</td>\n",
       "      <td>-8.928571</td>\n",
       "      <td>정상</td>\n",
       "      <td>정상</td>\n",
       "      <td>NaN</td>\n",
       "    </tr>\n",
       "  </tbody>\n",
       "</table>\n",
       "</div>"
      ],
      "text/plain": [
       "  office1 office2                        name     S/S eq_type eq_num eq_phase  \\\n",
       "0    제주본부  제주전력지사  신서귀S/S  154kV  #1   M.Tr A  신서귀S/S    M.Tr     #1        A   \n",
       "1    제주본부  제주전력지사  신서귀S/S  154kV  #1   M.Tr A  신서귀S/S    M.Tr     #1        A   \n",
       "2    제주본부  제주전력지사  신서귀S/S  154kV  #1   M.Tr A  신서귀S/S    M.Tr     #1        A   \n",
       "3    제주본부  제주전력지사  신서귀S/S  154kV  #1   M.Tr A  신서귀S/S    M.Tr     #1        A   \n",
       "4    제주본부  제주전력지사  신서귀S/S  154kV  #1   M.Tr A  신서귀S/S    M.Tr     #1        A   \n",
       "\n",
       "  maker volt volt_by_name operation anal_type  mfg_year sample_date  \\\n",
       "0    효성  154          154        신설       NaN      1998  1998-06-20   \n",
       "1    효성  154          154        신설       NaN      1998  1998-11-26   \n",
       "2    효성  154          154        신설       NaN      1998  1999-12-07   \n",
       "3    효성  154          154        신설       NaN      1998  2000-11-29   \n",
       "4    효성  154          154       운전중       NaN      1998  2001-12-10   \n",
       "\n",
       "   sample_year  sample_month  sample_season  age(year)  age(month)  long_term  \\\n",
       "0         1998             6              1          0           5          0   \n",
       "1         1998            11              2          0          10          0   \n",
       "2         1999            12              3          1          23          0   \n",
       "3         2000            11              2          2          34          0   \n",
       "4         2001            12              3          3          47          1   \n",
       "\n",
       "   sample_cnt    H2  C2H2  C2H4  CH4  C2H6  C3H8     CO     CO2  TCG1  TCG2  \\\n",
       "0           1   0.0   0.0   0.0  7.0   0.0   0.0   23.0    84.0   7.0   7.0   \n",
       "1           2  10.0   0.0   0.0  1.0   0.0   0.0   87.0  1738.0  11.0  11.0   \n",
       "2           3   0.0   0.0   0.0  3.0   0.0   0.0  108.0  1110.0   3.0   3.0   \n",
       "3           4   0.0   0.0   0.0  2.0   0.0   0.0  203.0   679.0   2.0   2.0   \n",
       "4           5   0.0   0.0   0.0  0.0   0.0   0.0  222.0   537.0   0.0   0.0   \n",
       "\n",
       "       TG   %H2  %C2H2  %C2H4   %CH4  %C2H6     %CO  CH4/H2  C2H2/C2H4  \\\n",
       "0   114.0   0.0    0.0    0.0  23.33    0.0   76.67     1.4        1.0   \n",
       "1  1836.0  10.2    0.0    0.0   1.02    0.0   88.78     0.1        1.0   \n",
       "2  1221.0   0.0    0.0    0.0   2.70    0.0   97.30     0.6        1.0   \n",
       "3   884.0   0.0    0.0    0.0   0.98    0.0   99.02     0.4        1.0   \n",
       "4   759.0   0.0    0.0    0.0   0.00    0.0  100.00     0.2        1.0   \n",
       "\n",
       "   C2H2/CH4  C2H6/C2H2  C2H4/C2H6  gas_ratio_p       dH2  dC2H2  dC2H4  dC2H6  \\\n",
       "0   0.14286        1.0        1.0            1  0.000000    0.0    0.0    0.0   \n",
       "1   1.00000        1.0        1.0            1  1.666667    0.0    0.0    0.0   \n",
       "2   0.33333        1.0        1.0            1 -0.714286    0.0    0.0    0.0   \n",
       "3   0.50000        1.0        1.0            1  0.000000    0.0    0.0    0.0   \n",
       "4   1.00000        1.0        1.0            0  0.000000    0.0    0.0    0.0   \n",
       "\n",
       "   dC3H8        dCO        dCO2     dTCG1     dTCG2         dTG r1(KEPCO)  \\\n",
       "0    0.0   0.000000    0.000000  0.000000  0.000000    0.000000        정상   \n",
       "1    0.0  10.666667  275.666667  0.666667  0.666667  287.000000        정상   \n",
       "2    0.0   1.500000  -44.857143 -0.571429 -0.571429  -43.928571        정상   \n",
       "3    0.0   7.916667  -35.916667 -0.083333 -0.083333  -28.083333        정상   \n",
       "4    0.0   1.357143  -10.142857 -0.142857 -0.142857   -8.928571        정상   \n",
       "\n",
       "  r2(KEPCO)  etc  \n",
       "0        정상  NaN  \n",
       "1        정상  NaN  \n",
       "2        정상  NaN  \n",
       "3        정상  NaN  \n",
       "4        정상  NaN  "
      ]
     },
     "execution_count": 28,
     "metadata": {},
     "output_type": "execute_result"
    }
   ],
   "source": [
    "df.head()"
   ]
  },
  {
   "cell_type": "code",
   "execution_count": 29,
   "metadata": {},
   "outputs": [
    {
     "data": {
      "text/plain": [
       "(134666, 57)"
      ]
     },
     "execution_count": 29,
     "metadata": {},
     "output_type": "execute_result"
    }
   ],
   "source": [
    "df.shape"
   ]
  },
  {
   "cell_type": "code",
   "execution_count": 30,
   "metadata": {},
   "outputs": [],
   "source": [
    "df.to_pickle('result4.pkl')"
   ]
  },
  {
   "cell_type": "code",
   "execution_count": null,
   "metadata": {},
   "outputs": [],
   "source": []
  }
 ],
 "metadata": {
  "kernelspec": {
   "display_name": "Python 3 (ipykernel)",
   "language": "python",
   "name": "python3"
  },
  "language_info": {
   "codemirror_mode": {
    "name": "ipython",
    "version": 3
   },
   "file_extension": ".py",
   "mimetype": "text/x-python",
   "name": "python",
   "nbconvert_exporter": "python",
   "pygments_lexer": "ipython3",
   "version": "3.9.12"
  }
 },
 "nbformat": 4,
 "nbformat_minor": 4
}
